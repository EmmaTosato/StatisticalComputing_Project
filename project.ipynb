{
 "cells": [
  {
   "cell_type": "markdown",
   "metadata": {},
   "source": [
    "# Data analysis project on Income data set "
   ]
  },
  {
   "cell_type": "markdown",
   "metadata": {},
   "source": [
    "## Project Overview"
   ]
  },
  {
   "cell_type": "markdown",
   "metadata": {},
   "source": [
    "The main task is to carryout an exploratory data analysis and apply some of the learned methodologies. The data set I will be working on is about incomes."
   ]
  },
  {
   "cell_type": "markdown",
   "metadata": {},
   "source": [
    "## Importing libraries"
   ]
  },
  {
   "cell_type": "code",
   "execution_count": 8,
   "metadata": {},
   "outputs": [],
   "source": [
    "import numpy as np\n",
    "import pandas as pd\n",
    "import matplotlib as mpl\n",
    "import matplotlib.pylab as plt\n",
    "import matplotlib.cm as cm\n",
    "import seaborn as sns\n",
    "from scipy.stats import chi2_contingency, zscore\n",
    "from sklearn.manifold import MDS\n",
    "from sklearn.preprocessing import LabelEncoder\n",
    "from sklearn.cluster import KMeans\n",
    "from matplotlib.colors import ListedColormap\n",
    "from sklearn.preprocessing import StandardScaler\n",
    "from sklearn.cluster import KMeans\n",
    "from sklearn.neighbors import KNeighborsClassifier\n",
    "from sklearn.cluster import DBSCAN\n",
    "from sklearn.linear_model import LogisticRegression, LinearRegression\n",
    "from sklearn.ensemble import RandomForestClassifier\n",
    "from sklearn.tree import DecisionTreeClassifier\n",
    "from sklearn.svm import SVC\n",
    "from scipy.cluster.hierarchy import ward, fcluster, dendrogram, linkage\n",
    "from sklearn.metrics import silhouette_score, silhouette_samples\n",
    "from sklearn.decomposition import PCA\n",
    "from sklearn.model_selection import KFold, train_test_split, cross_val_score, cross_val_score\n",
    "from sklearn.metrics import mean_absolute_error, mean_squared_error, r2_score, confusion_matrix, accuracy_score, recall_score, fbeta_score, roc_auc_score,roc_curve, precision_score\n",
    "import warnings\n",
    "warnings.filterwarnings(\"ignore\")\n",
    "warnings.resetwarnings()"
   ]
  },
  {
   "cell_type": "markdown",
   "metadata": {},
   "source": [
    "## Understanding the dataset"
   ]
  },
  {
   "cell_type": "markdown",
   "metadata": {},
   "source": [
    "### Loading"
   ]
  },
  {
   "cell_type": "markdown",
   "metadata": {},
   "source": [
    "Loading the dataset."
   ]
  },
  {
   "cell_type": "code",
   "execution_count": 2,
   "metadata": {},
   "outputs": [],
   "source": [
    "# From csv file to dataframe\n",
    "raw_df = pd.read_csv(\"/Users/emmatosato/Documents/UNI Locale/Erasmus/Statistical Computing/StatisticalComputing_Project/data50_synth.csv\")"
   ]
  },
  {
   "cell_type": "markdown",
   "metadata": {},
   "source": [
    "### Data set informations "
   ]
  },
  {
   "cell_type": "markdown",
   "metadata": {},
   "source": [
    "Retrieving some information about the data set."
   ]
  },
  {
   "cell_type": "code",
   "execution_count": 3,
   "metadata": {},
   "outputs": [
    {
     "data": {
      "text/plain": [
       "(10000, 52)"
      ]
     },
     "execution_count": 3,
     "metadata": {},
     "output_type": "execute_result"
    }
   ],
   "source": [
    "# Number of rows and columns\n",
    "raw_df.shape"
   ]
  },
  {
   "cell_type": "code",
   "execution_count": 4,
   "metadata": {},
   "outputs": [
    {
     "name": "stdout",
     "output_type": "stream",
     "text": [
      "<class 'pandas.core.frame.DataFrame'>\n",
      "RangeIndex: 10000 entries, 0 to 9999\n",
      "Data columns (total 52 columns):\n",
      " #   Column          Non-Null Count  Dtype \n",
      "---  ------          --------------  ----- \n",
      " 0   Unnamed: 0      10000 non-null  int64 \n",
      " 1   income_level    10000 non-null  int64 \n",
      " 2   sex             10000 non-null  object\n",
      " 3   age             10000 non-null  int64 \n",
      " 4   town            10000 non-null  object\n",
      " 5   occupation      10000 non-null  object\n",
      " 6   height          10000 non-null  int64 \n",
      " 7   1sibling        10000 non-null  int64 \n",
      " 8   2home           10000 non-null  int64 \n",
      " 9   3educ           10000 non-null  int64 \n",
      " 10  4travel         10000 non-null  int64 \n",
      " 11  5credit         10000 non-null  int64 \n",
      " 12  6cr sum         10000 non-null  int64 \n",
      " 13  7card           10000 non-null  int64 \n",
      " 14  8pastime        10000 non-null  int64 \n",
      " 15  9changes        10000 non-null  int64 \n",
      " 16  10daily travel  10000 non-null  int64 \n",
      " 17  11travel mode   10000 non-null  int64 \n",
      " 18  12conscious     10000 non-null  int64 \n",
      " 19  13accounts      10000 non-null  int64 \n",
      " 20  14sum           10000 non-null  int64 \n",
      " 21  15mobile        10000 non-null  int64 \n",
      " 22  16mobtime       10000 non-null  int64 \n",
      " 23  17car           10000 non-null  int64 \n",
      " 24  18internet      10000 non-null  int64 \n",
      " 25  19sport         10000 non-null  int64 \n",
      " 26  20vegan         10000 non-null  int64 \n",
      " 27  21civil         10000 non-null  int64 \n",
      " 28  22polit         10000 non-null  int64 \n",
      " 29  23ill           10000 non-null  int64 \n",
      " 30  24medicine      10000 non-null  int64 \n",
      " 31  25doctor        10000 non-null  int64 \n",
      " 32  26covid         10000 non-null  int64 \n",
      " 33  27advert        10000 non-null  int64 \n",
      " 34  28culture       10000 non-null  int64 \n",
      " 35  29food          10000 non-null  int64 \n",
      " 36  30children      10000 non-null  int64 \n",
      " 37  31rooms         10000 non-null  int64 \n",
      " 38  32valuables     10000 non-null  int64 \n",
      " 39  33cloths        10000 non-null  int64 \n",
      " 40  34jewels        10000 non-null  int64 \n",
      " 41  35smoke         10000 non-null  int64 \n",
      " 42  36alcohol       10000 non-null  int64 \n",
      " 43  37music         10000 non-null  int64 \n",
      " 44  38face          10000 non-null  int64 \n",
      " 45  39twitter       10000 non-null  int64 \n",
      " 46  40online1       10000 non-null  int64 \n",
      " 47  41online2       10000 non-null  int64 \n",
      " 48  42TV            10000 non-null  int64 \n",
      " 49  43refurb        10000 non-null  int64 \n",
      " 50  44move          10000 non-null  int64 \n",
      " 51  45travdest      10000 non-null  int64 \n",
      "dtypes: int64(49), object(3)\n",
      "memory usage: 4.0+ MB\n"
     ]
    }
   ],
   "source": [
    "# Informations about the data set\n",
    "raw_df.info()"
   ]
  },
  {
   "cell_type": "markdown",
   "metadata": {},
   "source": [
    "The main aspect that we can hightlight is that the majority of the variables (49) are integer values (numeric and dummy variables)."
   ]
  },
  {
   "cell_type": "code",
   "execution_count": 5,
   "metadata": {},
   "outputs": [
    {
     "data": {
      "text/plain": [
       "Index(['Unnamed: 0', 'income_level', 'sex', 'age', 'town', 'occupation',\n",
       "       'height', '1sibling', '2home', '3educ', '4travel', '5credit', '6cr sum',\n",
       "       '7card', '8pastime', '9changes', '10daily travel', '11travel mode',\n",
       "       '12conscious', '13accounts', '14sum', '15mobile', '16mobtime', '17car',\n",
       "       '18internet', '19sport', '20vegan', '21civil', '22polit', '23ill',\n",
       "       '24medicine', '25doctor', '26covid', '27advert', '28culture', '29food',\n",
       "       '30children', '31rooms', '32valuables', '33cloths', '34jewels',\n",
       "       '35smoke', '36alcohol', '37music', '38face', '39twitter', '40online1',\n",
       "       '41online2', '42TV', '43refurb', '44move', '45travdest'],\n",
       "      dtype='object')"
      ]
     },
     "execution_count": 5,
     "metadata": {},
     "output_type": "execute_result"
    }
   ],
   "source": [
    "# Column's names\n",
    "raw_df.columns"
   ]
  },
  {
   "cell_type": "code",
   "execution_count": 6,
   "metadata": {},
   "outputs": [
    {
     "data": {
      "text/html": [
       "<div>\n",
       "<style scoped>\n",
       "    .dataframe tbody tr th:only-of-type {\n",
       "        vertical-align: middle;\n",
       "    }\n",
       "\n",
       "    .dataframe tbody tr th {\n",
       "        vertical-align: top;\n",
       "    }\n",
       "\n",
       "    .dataframe thead th {\n",
       "        text-align: right;\n",
       "    }\n",
       "</style>\n",
       "<table border=\"1\" class=\"dataframe\">\n",
       "  <thead>\n",
       "    <tr style=\"text-align: right;\">\n",
       "      <th></th>\n",
       "      <th>Unnamed: 0</th>\n",
       "      <th>income_level</th>\n",
       "      <th>sex</th>\n",
       "      <th>age</th>\n",
       "      <th>town</th>\n",
       "      <th>occupation</th>\n",
       "      <th>height</th>\n",
       "      <th>1sibling</th>\n",
       "      <th>2home</th>\n",
       "      <th>3educ</th>\n",
       "      <th>...</th>\n",
       "      <th>36alcohol</th>\n",
       "      <th>37music</th>\n",
       "      <th>38face</th>\n",
       "      <th>39twitter</th>\n",
       "      <th>40online1</th>\n",
       "      <th>41online2</th>\n",
       "      <th>42TV</th>\n",
       "      <th>43refurb</th>\n",
       "      <th>44move</th>\n",
       "      <th>45travdest</th>\n",
       "    </tr>\n",
       "  </thead>\n",
       "  <tbody>\n",
       "    <tr>\n",
       "      <th>0</th>\n",
       "      <td>0</td>\n",
       "      <td>1</td>\n",
       "      <td>female</td>\n",
       "      <td>60</td>\n",
       "      <td>Nagykanizsa</td>\n",
       "      <td>Szakorvos</td>\n",
       "      <td>168</td>\n",
       "      <td>3</td>\n",
       "      <td>0</td>\n",
       "      <td>4</td>\n",
       "      <td>...</td>\n",
       "      <td>1</td>\n",
       "      <td>2</td>\n",
       "      <td>1</td>\n",
       "      <td>0</td>\n",
       "      <td>2</td>\n",
       "      <td>2</td>\n",
       "      <td>0</td>\n",
       "      <td>1</td>\n",
       "      <td>1</td>\n",
       "      <td>1</td>\n",
       "    </tr>\n",
       "    <tr>\n",
       "      <th>1</th>\n",
       "      <td>1</td>\n",
       "      <td>1</td>\n",
       "      <td>male</td>\n",
       "      <td>40</td>\n",
       "      <td>Nagykanizsa</td>\n",
       "      <td>Lakatos</td>\n",
       "      <td>170</td>\n",
       "      <td>4</td>\n",
       "      <td>0</td>\n",
       "      <td>3</td>\n",
       "      <td>...</td>\n",
       "      <td>1</td>\n",
       "      <td>0</td>\n",
       "      <td>0</td>\n",
       "      <td>0</td>\n",
       "      <td>1</td>\n",
       "      <td>2</td>\n",
       "      <td>1</td>\n",
       "      <td>1</td>\n",
       "      <td>1</td>\n",
       "      <td>1</td>\n",
       "    </tr>\n",
       "    <tr>\n",
       "      <th>2</th>\n",
       "      <td>2</td>\n",
       "      <td>0</td>\n",
       "      <td>male</td>\n",
       "      <td>49</td>\n",
       "      <td>Budakeszi</td>\n",
       "      <td>asztalos</td>\n",
       "      <td>196</td>\n",
       "      <td>3</td>\n",
       "      <td>0</td>\n",
       "      <td>1</td>\n",
       "      <td>...</td>\n",
       "      <td>3</td>\n",
       "      <td>2</td>\n",
       "      <td>0</td>\n",
       "      <td>0</td>\n",
       "      <td>0</td>\n",
       "      <td>0</td>\n",
       "      <td>1</td>\n",
       "      <td>0</td>\n",
       "      <td>1</td>\n",
       "      <td>1</td>\n",
       "    </tr>\n",
       "    <tr>\n",
       "      <th>3</th>\n",
       "      <td>3</td>\n",
       "      <td>0</td>\n",
       "      <td>male</td>\n",
       "      <td>47</td>\n",
       "      <td>Nagykanizsa</td>\n",
       "      <td>Szakorvos</td>\n",
       "      <td>166</td>\n",
       "      <td>0</td>\n",
       "      <td>0</td>\n",
       "      <td>3</td>\n",
       "      <td>...</td>\n",
       "      <td>3</td>\n",
       "      <td>1</td>\n",
       "      <td>1</td>\n",
       "      <td>0</td>\n",
       "      <td>2</td>\n",
       "      <td>0</td>\n",
       "      <td>1</td>\n",
       "      <td>1</td>\n",
       "      <td>0</td>\n",
       "      <td>1</td>\n",
       "    </tr>\n",
       "    <tr>\n",
       "      <th>4</th>\n",
       "      <td>4</td>\n",
       "      <td>0</td>\n",
       "      <td>female</td>\n",
       "      <td>41</td>\n",
       "      <td>Budakeszi</td>\n",
       "      <td>asztalos</td>\n",
       "      <td>173</td>\n",
       "      <td>3</td>\n",
       "      <td>0</td>\n",
       "      <td>3</td>\n",
       "      <td>...</td>\n",
       "      <td>1</td>\n",
       "      <td>2</td>\n",
       "      <td>1</td>\n",
       "      <td>0</td>\n",
       "      <td>0</td>\n",
       "      <td>0</td>\n",
       "      <td>1</td>\n",
       "      <td>1</td>\n",
       "      <td>0</td>\n",
       "      <td>1</td>\n",
       "    </tr>\n",
       "  </tbody>\n",
       "</table>\n",
       "<p>5 rows × 52 columns</p>\n",
       "</div>"
      ],
      "text/plain": [
       "   Unnamed: 0  income_level     sex  age         town  occupation  height  \\\n",
       "0           0             1  female   60  Nagykanizsa  Szakorvos      168   \n",
       "1           1             1    male   40  Nagykanizsa    Lakatos      170   \n",
       "2           2             0    male   49    Budakeszi   asztalos      196   \n",
       "3           3             0    male   47  Nagykanizsa  Szakorvos      166   \n",
       "4           4             0  female   41    Budakeszi   asztalos      173   \n",
       "\n",
       "   1sibling  2home  3educ  ...  36alcohol  37music  38face  39twitter  \\\n",
       "0         3      0      4  ...          1        2       1          0   \n",
       "1         4      0      3  ...          1        0       0          0   \n",
       "2         3      0      1  ...          3        2       0          0   \n",
       "3         0      0      3  ...          3        1       1          0   \n",
       "4         3      0      3  ...          1        2       1          0   \n",
       "\n",
       "   40online1  41online2  42TV  43refurb  44move  45travdest  \n",
       "0          2          2     0         1       1           1  \n",
       "1          1          2     1         1       1           1  \n",
       "2          0          0     1         0       1           1  \n",
       "3          2          0     1         1       0           1  \n",
       "4          0          0     1         1       0           1  \n",
       "\n",
       "[5 rows x 52 columns]"
      ]
     },
     "execution_count": 6,
     "metadata": {},
     "output_type": "execute_result"
    }
   ],
   "source": [
    "# First 5 rows \n",
    "raw_df.head(5)"
   ]
  },
  {
   "cell_type": "code",
   "execution_count": 7,
   "metadata": {},
   "outputs": [
    {
     "data": {
      "text/html": [
       "<div>\n",
       "<style scoped>\n",
       "    .dataframe tbody tr th:only-of-type {\n",
       "        vertical-align: middle;\n",
       "    }\n",
       "\n",
       "    .dataframe tbody tr th {\n",
       "        vertical-align: top;\n",
       "    }\n",
       "\n",
       "    .dataframe thead th {\n",
       "        text-align: right;\n",
       "    }\n",
       "</style>\n",
       "<table border=\"1\" class=\"dataframe\">\n",
       "  <thead>\n",
       "    <tr style=\"text-align: right;\">\n",
       "      <th></th>\n",
       "      <th>Unnamed: 0</th>\n",
       "      <th>income_level</th>\n",
       "      <th>sex</th>\n",
       "      <th>age</th>\n",
       "      <th>town</th>\n",
       "      <th>occupation</th>\n",
       "      <th>height</th>\n",
       "      <th>1sibling</th>\n",
       "      <th>2home</th>\n",
       "      <th>3educ</th>\n",
       "      <th>...</th>\n",
       "      <th>36alcohol</th>\n",
       "      <th>37music</th>\n",
       "      <th>38face</th>\n",
       "      <th>39twitter</th>\n",
       "      <th>40online1</th>\n",
       "      <th>41online2</th>\n",
       "      <th>42TV</th>\n",
       "      <th>43refurb</th>\n",
       "      <th>44move</th>\n",
       "      <th>45travdest</th>\n",
       "    </tr>\n",
       "  </thead>\n",
       "  <tbody>\n",
       "    <tr>\n",
       "      <th>9995</th>\n",
       "      <td>9995</td>\n",
       "      <td>0</td>\n",
       "      <td>female</td>\n",
       "      <td>44</td>\n",
       "      <td>Budakeszi</td>\n",
       "      <td>Lakatos</td>\n",
       "      <td>168</td>\n",
       "      <td>0</td>\n",
       "      <td>2</td>\n",
       "      <td>1</td>\n",
       "      <td>...</td>\n",
       "      <td>1</td>\n",
       "      <td>2</td>\n",
       "      <td>1</td>\n",
       "      <td>0</td>\n",
       "      <td>1</td>\n",
       "      <td>0</td>\n",
       "      <td>0</td>\n",
       "      <td>0</td>\n",
       "      <td>0</td>\n",
       "      <td>1</td>\n",
       "    </tr>\n",
       "    <tr>\n",
       "      <th>9996</th>\n",
       "      <td>9996</td>\n",
       "      <td>0</td>\n",
       "      <td>male</td>\n",
       "      <td>54</td>\n",
       "      <td>Nagykanizsa</td>\n",
       "      <td>Lakatos</td>\n",
       "      <td>172</td>\n",
       "      <td>0</td>\n",
       "      <td>0</td>\n",
       "      <td>4</td>\n",
       "      <td>...</td>\n",
       "      <td>1</td>\n",
       "      <td>2</td>\n",
       "      <td>0</td>\n",
       "      <td>0</td>\n",
       "      <td>1</td>\n",
       "      <td>2</td>\n",
       "      <td>0</td>\n",
       "      <td>0</td>\n",
       "      <td>0</td>\n",
       "      <td>1</td>\n",
       "    </tr>\n",
       "    <tr>\n",
       "      <th>9997</th>\n",
       "      <td>9997</td>\n",
       "      <td>1</td>\n",
       "      <td>female</td>\n",
       "      <td>62</td>\n",
       "      <td>Nagykanizsa</td>\n",
       "      <td>Lakatos</td>\n",
       "      <td>192</td>\n",
       "      <td>4</td>\n",
       "      <td>0</td>\n",
       "      <td>3</td>\n",
       "      <td>...</td>\n",
       "      <td>0</td>\n",
       "      <td>2</td>\n",
       "      <td>0</td>\n",
       "      <td>0</td>\n",
       "      <td>2</td>\n",
       "      <td>2</td>\n",
       "      <td>1</td>\n",
       "      <td>1</td>\n",
       "      <td>1</td>\n",
       "      <td>4</td>\n",
       "    </tr>\n",
       "    <tr>\n",
       "      <th>9998</th>\n",
       "      <td>9998</td>\n",
       "      <td>1</td>\n",
       "      <td>male</td>\n",
       "      <td>56</td>\n",
       "      <td>Budakeszi</td>\n",
       "      <td>Szakorvos</td>\n",
       "      <td>164</td>\n",
       "      <td>0</td>\n",
       "      <td>0</td>\n",
       "      <td>2</td>\n",
       "      <td>...</td>\n",
       "      <td>1</td>\n",
       "      <td>2</td>\n",
       "      <td>0</td>\n",
       "      <td>0</td>\n",
       "      <td>1</td>\n",
       "      <td>2</td>\n",
       "      <td>0</td>\n",
       "      <td>1</td>\n",
       "      <td>0</td>\n",
       "      <td>2</td>\n",
       "    </tr>\n",
       "    <tr>\n",
       "      <th>9999</th>\n",
       "      <td>9999</td>\n",
       "      <td>0</td>\n",
       "      <td>male</td>\n",
       "      <td>58</td>\n",
       "      <td>Nagykanizsa</td>\n",
       "      <td>Lakatos</td>\n",
       "      <td>171</td>\n",
       "      <td>3</td>\n",
       "      <td>0</td>\n",
       "      <td>0</td>\n",
       "      <td>...</td>\n",
       "      <td>1</td>\n",
       "      <td>2</td>\n",
       "      <td>0</td>\n",
       "      <td>0</td>\n",
       "      <td>1</td>\n",
       "      <td>0</td>\n",
       "      <td>0</td>\n",
       "      <td>0</td>\n",
       "      <td>0</td>\n",
       "      <td>3</td>\n",
       "    </tr>\n",
       "  </tbody>\n",
       "</table>\n",
       "<p>5 rows × 52 columns</p>\n",
       "</div>"
      ],
      "text/plain": [
       "      Unnamed: 0  income_level     sex  age         town  occupation  height  \\\n",
       "9995        9995             0  female   44    Budakeszi    Lakatos      168   \n",
       "9996        9996             0    male   54  Nagykanizsa    Lakatos      172   \n",
       "9997        9997             1  female   62  Nagykanizsa    Lakatos      192   \n",
       "9998        9998             1    male   56    Budakeszi  Szakorvos      164   \n",
       "9999        9999             0    male   58  Nagykanizsa    Lakatos      171   \n",
       "\n",
       "      1sibling  2home  3educ  ...  36alcohol  37music  38face  39twitter  \\\n",
       "9995         0      2      1  ...          1        2       1          0   \n",
       "9996         0      0      4  ...          1        2       0          0   \n",
       "9997         4      0      3  ...          0        2       0          0   \n",
       "9998         0      0      2  ...          1        2       0          0   \n",
       "9999         3      0      0  ...          1        2       0          0   \n",
       "\n",
       "      40online1  41online2  42TV  43refurb  44move  45travdest  \n",
       "9995          1          0     0         0       0           1  \n",
       "9996          1          2     0         0       0           1  \n",
       "9997          2          2     1         1       1           4  \n",
       "9998          1          2     0         1       0           2  \n",
       "9999          1          0     0         0       0           3  \n",
       "\n",
       "[5 rows x 52 columns]"
      ]
     },
     "execution_count": 7,
     "metadata": {},
     "output_type": "execute_result"
    }
   ],
   "source": [
    "# Last 5 rows \n",
    "raw_df.tail(5)"
   ]
  },
  {
   "cell_type": "markdown",
   "metadata": {},
   "source": [
    "### Columns meaning"
   ]
  },
  {
   "cell_type": "code",
   "execution_count": 8,
   "metadata": {},
   "outputs": [
    {
     "data": {
      "text/plain": [
       "Unnamed: 0        10000\n",
       "income_level          2\n",
       "sex                   2\n",
       "age                  41\n",
       "town                  3\n",
       "occupation            3\n",
       "height               60\n",
       "1sibling              5\n",
       "2home                 3\n",
       "3educ                 5\n",
       "4travel               2\n",
       "5credit               2\n",
       "6cr sum               4\n",
       "7card                 2\n",
       "8pastime             12\n",
       "9changes              4\n",
       "10daily travel       31\n",
       "11travel mode         5\n",
       "12conscious           2\n",
       "13accounts            2\n",
       "14sum              5398\n",
       "15mobile              2\n",
       "16mobtime             2\n",
       "17car                 2\n",
       "18internet            2\n",
       "19sport               2\n",
       "20vegan               2\n",
       "21civil               2\n",
       "22polit               2\n",
       "23ill                 2\n",
       "24medicine            2\n",
       "25doctor              6\n",
       "26covid               4\n",
       "27advert              2\n",
       "28culture             5\n",
       "29food                5\n",
       "30children            5\n",
       "31rooms               5\n",
       "32valuables        2769\n",
       "33cloths              4\n",
       "34jewels              4\n",
       "35smoke               2\n",
       "36alcohol             4\n",
       "37music               4\n",
       "38face                2\n",
       "39twitter             2\n",
       "40online1             3\n",
       "41online2             3\n",
       "42TV                  3\n",
       "43refurb              2\n",
       "44move                2\n",
       "45travdest            5\n",
       "dtype: int64"
      ]
     },
     "execution_count": 8,
     "metadata": {},
     "output_type": "execute_result"
    }
   ],
   "source": [
    "# number of unique values for each variable\n",
    "raw_df.nunique(axis=0)"
   ]
  },
  {
   "cell_type": "markdown",
   "metadata": {},
   "source": [
    "We can see most of the variables have from 2 up to 5 unique values, while only few are charcterized by a very large variety. Below we explore these with more detail."
   ]
  },
  {
   "cell_type": "code",
   "execution_count": 9,
   "metadata": {},
   "outputs": [
    {
     "name": "stdout",
     "output_type": "stream",
     "text": [
      "['sex', 'town', 'occupation']\n"
     ]
    }
   ],
   "source": [
    "# Categorical variables\n",
    "categorical_vars = raw_df.select_dtypes(include=['object']).columns.tolist()\n",
    "print(categorical_vars)"
   ]
  },
  {
   "cell_type": "code",
   "execution_count": 10,
   "metadata": {},
   "outputs": [
    {
     "name": "stdout",
     "output_type": "stream",
     "text": [
      "['income_level', 'sex', '4travel', '5credit', '7card', '12conscious', '13accounts', '15mobile', '16mobtime', '17car', '18internet', '19sport', '20vegan', '21civil', '22polit', '23ill', '24medicine', '27advert', '35smoke', '38face', '39twitter', '43refurb', '44move']\n"
     ]
    }
   ],
   "source": [
    "# Searching the binary variables \n",
    "binary_vars = []\n",
    "\n",
    "for column in raw_df.columns:\n",
    "    unique_values = raw_df[column].unique()\n",
    "    if len(unique_values) == 2:\n",
    "        binary_vars.append(column)\n",
    "\n",
    "print(binary_vars)"
   ]
  },
  {
   "cell_type": "code",
   "execution_count": 11,
   "metadata": {},
   "outputs": [
    {
     "name": "stdout",
     "output_type": "stream",
     "text": [
      "['Unnamed: 0', 'age', 'town', 'occupation', 'height', '1sibling', '2home', '3educ', '6cr sum', '8pastime', '9changes', '10daily travel', '11travel mode', '14sum', '25doctor', '26covid', '28culture', '29food', '30children', '31rooms', '32valuables', '33cloths', '34jewels', '36alcohol', '37music', '40online1', '41online2', '42TV', '45travdest']\n"
     ]
    }
   ],
   "source": [
    "# Searching the NON binary variables \n",
    "NON_binary_vars = []\n",
    "\n",
    "for column in raw_df.columns:\n",
    "    unique_values = raw_df[column].unique()\n",
    "    if len(unique_values) > 2:\n",
    "        NON_binary_vars.append(column)\n",
    "\n",
    "print(NON_binary_vars)"
   ]
  },
  {
   "cell_type": "code",
   "execution_count": 12,
   "metadata": {},
   "outputs": [
    {
     "name": "stderr",
     "output_type": "stream",
     "text": [
      "/var/folders/07/b_mqfzkn0fzbvjz9y6nbfyf40000gn/T/ipykernel_15240/1928078836.py:3: SettingWithCopyWarning: \n",
      "A value is trying to be set on a copy of a slice from a DataFrame\n",
      "\n",
      "See the caveats in the documentation: https://pandas.pydata.org/pandas-docs/stable/user_guide/indexing.html#returning-a-view-versus-a-copy\n",
      "  non_binary_df.drop(['Unnamed: 0', 'town', 'occupation'], axis=1, inplace= True)\n"
     ]
    },
    {
     "data": {
      "text/plain": [
       "age                     65\n",
       "height                 204\n",
       "1sibling                 4\n",
       "2home                    2\n",
       "3educ                    4\n",
       "6cr sum                  3\n",
       "8pastime                14\n",
       "9changes                 3\n",
       "10daily travel          30\n",
       "11travel mode            4\n",
       "14sum             56122200\n",
       "25doctor                 5\n",
       "26covid                  3\n",
       "28culture                4\n",
       "29food                   4\n",
       "30children               4\n",
       "31rooms                  4\n",
       "32valuables         164676\n",
       "33cloths                 3\n",
       "34jewels                 3\n",
       "36alcohol                3\n",
       "37music                  3\n",
       "40online1                2\n",
       "41online2                2\n",
       "42TV                     2\n",
       "45travdest               4\n",
       "dtype: int64"
      ]
     },
     "execution_count": 12,
     "metadata": {},
     "output_type": "execute_result"
    }
   ],
   "source": [
    "# Understanding the max values for the non binary and non categorical variables\n",
    "non_binary_df = raw_df[NON_binary_vars]\n",
    "non_binary_df.drop(['Unnamed: 0', 'town', 'occupation'], axis=1, inplace= True)\n",
    "non_binary_df.max()"
   ]
  },
  {
   "cell_type": "markdown",
   "metadata": {},
   "source": [
    "Taking into account all the functions seen, we can deduce the following information about the variables:\n",
    "- sex, age, town, occupation and height are the usual features\n",
    "\n",
    "- income_level, 4travel, 5credit, 7card, 12conscious, 13accounts, 15mobile, 16mobtime, 17car, 18internet, 19sport, 20vegan, 21civil, 22polit, 23ill, 24medicine, 27advert, 35smoke, 38face, 39twitter, 43refurb and 44move are all binary variable (0 or 1). These could mean:\n",
    "    - the presence (1) or absence (0) of a particular characteristic or behavior.\n",
    "    \n",
    "    - encoding for different the two categories of that feature.\n",
    "\n",
    "- 3educ might be the education level.\n",
    "\n",
    "- 14sum is a sum of certain information, a possibel target variable.\n",
    "\n",
    "- 32valuables seemes to represent a quantitative measure values valuable possessions.\n",
    "\n",
    "- 1sibling, 2home, 6cr sum, 8pastime, 9changes, 10daily travel, 11travel mode, 25doctor, 26covid, 28culture, 29food, 30children, 31rooms, 33cloths, 34jewels, 36alcohol, 37music, 40online1, 41online2, 42TV, 45travdest could be \n",
    "    - the number of a particular characteristic or behavior (such as the number of sibling, houses and so on)\n",
    "    \n",
    "    - encoding for different categories of that feature.\n"
   ]
  },
  {
   "cell_type": "markdown",
   "metadata": {},
   "source": [
    "### Some statistics"
   ]
  },
  {
   "cell_type": "markdown",
   "metadata": {},
   "source": [
    "In order to make the statistics more comprehensible and readable i will separate the variables in subset."
   ]
  },
  {
   "cell_type": "code",
   "execution_count": 13,
   "metadata": {},
   "outputs": [],
   "source": [
    "usual_df = raw_df[['income_level', 'sex', 'age', 'town', 'occupation', 'height']]\n",
    "binary_df = raw_df[binary_vars]\n",
    "binary_df = raw_df[binary_vars].drop(['income_level', 'sex'], axis=1)\n",
    "non_binary_df = non_binary_df.drop(['age', 'height'], axis=1)"
   ]
  },
  {
   "cell_type": "code",
   "execution_count": 14,
   "metadata": {},
   "outputs": [
    {
     "data": {
      "text/html": [
       "<div>\n",
       "<style scoped>\n",
       "    .dataframe tbody tr th:only-of-type {\n",
       "        vertical-align: middle;\n",
       "    }\n",
       "\n",
       "    .dataframe tbody tr th {\n",
       "        vertical-align: top;\n",
       "    }\n",
       "\n",
       "    .dataframe thead th {\n",
       "        text-align: right;\n",
       "    }\n",
       "</style>\n",
       "<table border=\"1\" class=\"dataframe\">\n",
       "  <thead>\n",
       "    <tr style=\"text-align: right;\">\n",
       "      <th></th>\n",
       "      <th>income_level</th>\n",
       "      <th>age</th>\n",
       "      <th>height</th>\n",
       "    </tr>\n",
       "  </thead>\n",
       "  <tbody>\n",
       "    <tr>\n",
       "      <th>count</th>\n",
       "      <td>10000.000000</td>\n",
       "      <td>10000.000000</td>\n",
       "      <td>10000.000000</td>\n",
       "    </tr>\n",
       "    <tr>\n",
       "      <th>mean</th>\n",
       "      <td>0.562300</td>\n",
       "      <td>44.549000</td>\n",
       "      <td>169.977500</td>\n",
       "    </tr>\n",
       "    <tr>\n",
       "      <th>std</th>\n",
       "      <td>0.496128</td>\n",
       "      <td>12.350281</td>\n",
       "      <td>9.746543</td>\n",
       "    </tr>\n",
       "    <tr>\n",
       "      <th>min</th>\n",
       "      <td>0.000000</td>\n",
       "      <td>25.000000</td>\n",
       "      <td>145.000000</td>\n",
       "    </tr>\n",
       "    <tr>\n",
       "      <th>25%</th>\n",
       "      <td>0.000000</td>\n",
       "      <td>33.000000</td>\n",
       "      <td>164.000000</td>\n",
       "    </tr>\n",
       "    <tr>\n",
       "      <th>50%</th>\n",
       "      <td>1.000000</td>\n",
       "      <td>45.000000</td>\n",
       "      <td>170.000000</td>\n",
       "    </tr>\n",
       "    <tr>\n",
       "      <th>75%</th>\n",
       "      <td>1.000000</td>\n",
       "      <td>55.000000</td>\n",
       "      <td>176.000000</td>\n",
       "    </tr>\n",
       "    <tr>\n",
       "      <th>max</th>\n",
       "      <td>1.000000</td>\n",
       "      <td>65.000000</td>\n",
       "      <td>204.000000</td>\n",
       "    </tr>\n",
       "  </tbody>\n",
       "</table>\n",
       "</div>"
      ],
      "text/plain": [
       "       income_level           age        height\n",
       "count  10000.000000  10000.000000  10000.000000\n",
       "mean       0.562300     44.549000    169.977500\n",
       "std        0.496128     12.350281      9.746543\n",
       "min        0.000000     25.000000    145.000000\n",
       "25%        0.000000     33.000000    164.000000\n",
       "50%        1.000000     45.000000    170.000000\n",
       "75%        1.000000     55.000000    176.000000\n",
       "max        1.000000     65.000000    204.000000"
      ]
     },
     "execution_count": 14,
     "metadata": {},
     "output_type": "execute_result"
    }
   ],
   "source": [
    "usual_df.describe()"
   ]
  },
  {
   "cell_type": "code",
   "execution_count": 15,
   "metadata": {},
   "outputs": [
    {
     "data": {
      "text/html": [
       "<div>\n",
       "<style scoped>\n",
       "    .dataframe tbody tr th:only-of-type {\n",
       "        vertical-align: middle;\n",
       "    }\n",
       "\n",
       "    .dataframe tbody tr th {\n",
       "        vertical-align: top;\n",
       "    }\n",
       "\n",
       "    .dataframe thead th {\n",
       "        text-align: right;\n",
       "    }\n",
       "</style>\n",
       "<table border=\"1\" class=\"dataframe\">\n",
       "  <thead>\n",
       "    <tr style=\"text-align: right;\">\n",
       "      <th></th>\n",
       "      <th>4travel</th>\n",
       "      <th>5credit</th>\n",
       "      <th>7card</th>\n",
       "      <th>12conscious</th>\n",
       "      <th>13accounts</th>\n",
       "      <th>15mobile</th>\n",
       "      <th>16mobtime</th>\n",
       "      <th>17car</th>\n",
       "      <th>18internet</th>\n",
       "      <th>19sport</th>\n",
       "      <th>...</th>\n",
       "      <th>21civil</th>\n",
       "      <th>22polit</th>\n",
       "      <th>23ill</th>\n",
       "      <th>24medicine</th>\n",
       "      <th>27advert</th>\n",
       "      <th>35smoke</th>\n",
       "      <th>38face</th>\n",
       "      <th>39twitter</th>\n",
       "      <th>43refurb</th>\n",
       "      <th>44move</th>\n",
       "    </tr>\n",
       "  </thead>\n",
       "  <tbody>\n",
       "    <tr>\n",
       "      <th>count</th>\n",
       "      <td>10000.000000</td>\n",
       "      <td>10000.000000</td>\n",
       "      <td>10000.00000</td>\n",
       "      <td>10000.000000</td>\n",
       "      <td>10000.000000</td>\n",
       "      <td>10000.000000</td>\n",
       "      <td>10000.000000</td>\n",
       "      <td>10000.000000</td>\n",
       "      <td>10000.000000</td>\n",
       "      <td>10000.000000</td>\n",
       "      <td>...</td>\n",
       "      <td>10000.000000</td>\n",
       "      <td>10000.000000</td>\n",
       "      <td>10000.000000</td>\n",
       "      <td>10000.000000</td>\n",
       "      <td>10000.000000</td>\n",
       "      <td>10000.000000</td>\n",
       "      <td>10000.000000</td>\n",
       "      <td>10000.00000</td>\n",
       "      <td>10000.000000</td>\n",
       "      <td>10000.000000</td>\n",
       "    </tr>\n",
       "    <tr>\n",
       "      <th>mean</th>\n",
       "      <td>0.717500</td>\n",
       "      <td>0.967600</td>\n",
       "      <td>0.92450</td>\n",
       "      <td>0.016800</td>\n",
       "      <td>0.419600</td>\n",
       "      <td>0.743700</td>\n",
       "      <td>0.126600</td>\n",
       "      <td>0.325900</td>\n",
       "      <td>0.175100</td>\n",
       "      <td>0.810400</td>\n",
       "      <td>...</td>\n",
       "      <td>0.359500</td>\n",
       "      <td>0.779400</td>\n",
       "      <td>0.761800</td>\n",
       "      <td>0.406400</td>\n",
       "      <td>0.112100</td>\n",
       "      <td>0.931200</td>\n",
       "      <td>0.526200</td>\n",
       "      <td>0.36220</td>\n",
       "      <td>0.624200</td>\n",
       "      <td>0.409700</td>\n",
       "    </tr>\n",
       "    <tr>\n",
       "      <th>std</th>\n",
       "      <td>0.450238</td>\n",
       "      <td>0.177069</td>\n",
       "      <td>0.26421</td>\n",
       "      <td>0.128528</td>\n",
       "      <td>0.493518</td>\n",
       "      <td>0.436611</td>\n",
       "      <td>0.332541</td>\n",
       "      <td>0.468734</td>\n",
       "      <td>0.380072</td>\n",
       "      <td>0.392004</td>\n",
       "      <td>...</td>\n",
       "      <td>0.479878</td>\n",
       "      <td>0.414672</td>\n",
       "      <td>0.426003</td>\n",
       "      <td>0.491185</td>\n",
       "      <td>0.315505</td>\n",
       "      <td>0.253126</td>\n",
       "      <td>0.499338</td>\n",
       "      <td>0.48066</td>\n",
       "      <td>0.484353</td>\n",
       "      <td>0.491803</td>\n",
       "    </tr>\n",
       "    <tr>\n",
       "      <th>min</th>\n",
       "      <td>0.000000</td>\n",
       "      <td>0.000000</td>\n",
       "      <td>0.00000</td>\n",
       "      <td>0.000000</td>\n",
       "      <td>0.000000</td>\n",
       "      <td>0.000000</td>\n",
       "      <td>0.000000</td>\n",
       "      <td>0.000000</td>\n",
       "      <td>0.000000</td>\n",
       "      <td>0.000000</td>\n",
       "      <td>...</td>\n",
       "      <td>0.000000</td>\n",
       "      <td>0.000000</td>\n",
       "      <td>0.000000</td>\n",
       "      <td>0.000000</td>\n",
       "      <td>0.000000</td>\n",
       "      <td>0.000000</td>\n",
       "      <td>0.000000</td>\n",
       "      <td>0.00000</td>\n",
       "      <td>0.000000</td>\n",
       "      <td>0.000000</td>\n",
       "    </tr>\n",
       "    <tr>\n",
       "      <th>25%</th>\n",
       "      <td>0.000000</td>\n",
       "      <td>1.000000</td>\n",
       "      <td>1.00000</td>\n",
       "      <td>0.000000</td>\n",
       "      <td>0.000000</td>\n",
       "      <td>0.000000</td>\n",
       "      <td>0.000000</td>\n",
       "      <td>0.000000</td>\n",
       "      <td>0.000000</td>\n",
       "      <td>1.000000</td>\n",
       "      <td>...</td>\n",
       "      <td>0.000000</td>\n",
       "      <td>1.000000</td>\n",
       "      <td>1.000000</td>\n",
       "      <td>0.000000</td>\n",
       "      <td>0.000000</td>\n",
       "      <td>1.000000</td>\n",
       "      <td>0.000000</td>\n",
       "      <td>0.00000</td>\n",
       "      <td>0.000000</td>\n",
       "      <td>0.000000</td>\n",
       "    </tr>\n",
       "    <tr>\n",
       "      <th>50%</th>\n",
       "      <td>1.000000</td>\n",
       "      <td>1.000000</td>\n",
       "      <td>1.00000</td>\n",
       "      <td>0.000000</td>\n",
       "      <td>0.000000</td>\n",
       "      <td>1.000000</td>\n",
       "      <td>0.000000</td>\n",
       "      <td>0.000000</td>\n",
       "      <td>0.000000</td>\n",
       "      <td>1.000000</td>\n",
       "      <td>...</td>\n",
       "      <td>0.000000</td>\n",
       "      <td>1.000000</td>\n",
       "      <td>1.000000</td>\n",
       "      <td>0.000000</td>\n",
       "      <td>0.000000</td>\n",
       "      <td>1.000000</td>\n",
       "      <td>1.000000</td>\n",
       "      <td>0.00000</td>\n",
       "      <td>1.000000</td>\n",
       "      <td>0.000000</td>\n",
       "    </tr>\n",
       "    <tr>\n",
       "      <th>75%</th>\n",
       "      <td>1.000000</td>\n",
       "      <td>1.000000</td>\n",
       "      <td>1.00000</td>\n",
       "      <td>0.000000</td>\n",
       "      <td>1.000000</td>\n",
       "      <td>1.000000</td>\n",
       "      <td>0.000000</td>\n",
       "      <td>1.000000</td>\n",
       "      <td>0.000000</td>\n",
       "      <td>1.000000</td>\n",
       "      <td>...</td>\n",
       "      <td>1.000000</td>\n",
       "      <td>1.000000</td>\n",
       "      <td>1.000000</td>\n",
       "      <td>1.000000</td>\n",
       "      <td>0.000000</td>\n",
       "      <td>1.000000</td>\n",
       "      <td>1.000000</td>\n",
       "      <td>1.00000</td>\n",
       "      <td>1.000000</td>\n",
       "      <td>1.000000</td>\n",
       "    </tr>\n",
       "    <tr>\n",
       "      <th>max</th>\n",
       "      <td>1.000000</td>\n",
       "      <td>1.000000</td>\n",
       "      <td>1.00000</td>\n",
       "      <td>1.000000</td>\n",
       "      <td>1.000000</td>\n",
       "      <td>1.000000</td>\n",
       "      <td>1.000000</td>\n",
       "      <td>1.000000</td>\n",
       "      <td>1.000000</td>\n",
       "      <td>1.000000</td>\n",
       "      <td>...</td>\n",
       "      <td>1.000000</td>\n",
       "      <td>1.000000</td>\n",
       "      <td>1.000000</td>\n",
       "      <td>1.000000</td>\n",
       "      <td>1.000000</td>\n",
       "      <td>1.000000</td>\n",
       "      <td>1.000000</td>\n",
       "      <td>1.00000</td>\n",
       "      <td>1.000000</td>\n",
       "      <td>1.000000</td>\n",
       "    </tr>\n",
       "  </tbody>\n",
       "</table>\n",
       "<p>8 rows × 21 columns</p>\n",
       "</div>"
      ],
      "text/plain": [
       "            4travel       5credit        7card   12conscious    13accounts  \\\n",
       "count  10000.000000  10000.000000  10000.00000  10000.000000  10000.000000   \n",
       "mean       0.717500      0.967600      0.92450      0.016800      0.419600   \n",
       "std        0.450238      0.177069      0.26421      0.128528      0.493518   \n",
       "min        0.000000      0.000000      0.00000      0.000000      0.000000   \n",
       "25%        0.000000      1.000000      1.00000      0.000000      0.000000   \n",
       "50%        1.000000      1.000000      1.00000      0.000000      0.000000   \n",
       "75%        1.000000      1.000000      1.00000      0.000000      1.000000   \n",
       "max        1.000000      1.000000      1.00000      1.000000      1.000000   \n",
       "\n",
       "           15mobile     16mobtime         17car    18internet       19sport  \\\n",
       "count  10000.000000  10000.000000  10000.000000  10000.000000  10000.000000   \n",
       "mean       0.743700      0.126600      0.325900      0.175100      0.810400   \n",
       "std        0.436611      0.332541      0.468734      0.380072      0.392004   \n",
       "min        0.000000      0.000000      0.000000      0.000000      0.000000   \n",
       "25%        0.000000      0.000000      0.000000      0.000000      1.000000   \n",
       "50%        1.000000      0.000000      0.000000      0.000000      1.000000   \n",
       "75%        1.000000      0.000000      1.000000      0.000000      1.000000   \n",
       "max        1.000000      1.000000      1.000000      1.000000      1.000000   \n",
       "\n",
       "       ...       21civil       22polit         23ill    24medicine  \\\n",
       "count  ...  10000.000000  10000.000000  10000.000000  10000.000000   \n",
       "mean   ...      0.359500      0.779400      0.761800      0.406400   \n",
       "std    ...      0.479878      0.414672      0.426003      0.491185   \n",
       "min    ...      0.000000      0.000000      0.000000      0.000000   \n",
       "25%    ...      0.000000      1.000000      1.000000      0.000000   \n",
       "50%    ...      0.000000      1.000000      1.000000      0.000000   \n",
       "75%    ...      1.000000      1.000000      1.000000      1.000000   \n",
       "max    ...      1.000000      1.000000      1.000000      1.000000   \n",
       "\n",
       "           27advert       35smoke        38face    39twitter      43refurb  \\\n",
       "count  10000.000000  10000.000000  10000.000000  10000.00000  10000.000000   \n",
       "mean       0.112100      0.931200      0.526200      0.36220      0.624200   \n",
       "std        0.315505      0.253126      0.499338      0.48066      0.484353   \n",
       "min        0.000000      0.000000      0.000000      0.00000      0.000000   \n",
       "25%        0.000000      1.000000      0.000000      0.00000      0.000000   \n",
       "50%        0.000000      1.000000      1.000000      0.00000      1.000000   \n",
       "75%        0.000000      1.000000      1.000000      1.00000      1.000000   \n",
       "max        1.000000      1.000000      1.000000      1.00000      1.000000   \n",
       "\n",
       "             44move  \n",
       "count  10000.000000  \n",
       "mean       0.409700  \n",
       "std        0.491803  \n",
       "min        0.000000  \n",
       "25%        0.000000  \n",
       "50%        0.000000  \n",
       "75%        1.000000  \n",
       "max        1.000000  \n",
       "\n",
       "[8 rows x 21 columns]"
      ]
     },
     "execution_count": 15,
     "metadata": {},
     "output_type": "execute_result"
    }
   ],
   "source": [
    "binary_df.describe()"
   ]
  },
  {
   "cell_type": "code",
   "execution_count": 16,
   "metadata": {},
   "outputs": [
    {
     "data": {
      "text/html": [
       "<div>\n",
       "<style scoped>\n",
       "    .dataframe tbody tr th:only-of-type {\n",
       "        vertical-align: middle;\n",
       "    }\n",
       "\n",
       "    .dataframe tbody tr th {\n",
       "        vertical-align: top;\n",
       "    }\n",
       "\n",
       "    .dataframe thead th {\n",
       "        text-align: right;\n",
       "    }\n",
       "</style>\n",
       "<table border=\"1\" class=\"dataframe\">\n",
       "  <thead>\n",
       "    <tr style=\"text-align: right;\">\n",
       "      <th></th>\n",
       "      <th>1sibling</th>\n",
       "      <th>2home</th>\n",
       "      <th>3educ</th>\n",
       "      <th>6cr sum</th>\n",
       "      <th>8pastime</th>\n",
       "      <th>9changes</th>\n",
       "      <th>10daily travel</th>\n",
       "      <th>11travel mode</th>\n",
       "      <th>14sum</th>\n",
       "      <th>25doctor</th>\n",
       "      <th>...</th>\n",
       "      <th>31rooms</th>\n",
       "      <th>32valuables</th>\n",
       "      <th>33cloths</th>\n",
       "      <th>34jewels</th>\n",
       "      <th>36alcohol</th>\n",
       "      <th>37music</th>\n",
       "      <th>40online1</th>\n",
       "      <th>41online2</th>\n",
       "      <th>42TV</th>\n",
       "      <th>45travdest</th>\n",
       "    </tr>\n",
       "  </thead>\n",
       "  <tbody>\n",
       "    <tr>\n",
       "      <th>count</th>\n",
       "      <td>10000.000000</td>\n",
       "      <td>10000.000000</td>\n",
       "      <td>10000.000000</td>\n",
       "      <td>10000.000000</td>\n",
       "      <td>10000.000000</td>\n",
       "      <td>10000.000000</td>\n",
       "      <td>10000.000000</td>\n",
       "      <td>10000.000000</td>\n",
       "      <td>1.000000e+04</td>\n",
       "      <td>10000.000000</td>\n",
       "      <td>...</td>\n",
       "      <td>10000.000000</td>\n",
       "      <td>10000.000000</td>\n",
       "      <td>10000.000000</td>\n",
       "      <td>10000.000000</td>\n",
       "      <td>10000.000000</td>\n",
       "      <td>10000.000000</td>\n",
       "      <td>10000.000000</td>\n",
       "      <td>10000.000000</td>\n",
       "      <td>10000.000000</td>\n",
       "      <td>10000.000000</td>\n",
       "    </tr>\n",
       "    <tr>\n",
       "      <th>mean</th>\n",
       "      <td>2.278200</td>\n",
       "      <td>0.354700</td>\n",
       "      <td>2.750500</td>\n",
       "      <td>1.162200</td>\n",
       "      <td>1.752900</td>\n",
       "      <td>1.986900</td>\n",
       "      <td>2.403100</td>\n",
       "      <td>1.161700</td>\n",
       "      <td>9.968203e+05</td>\n",
       "      <td>2.343600</td>\n",
       "      <td>...</td>\n",
       "      <td>1.915000</td>\n",
       "      <td>2108.875400</td>\n",
       "      <td>2.038700</td>\n",
       "      <td>1.345800</td>\n",
       "      <td>1.781700</td>\n",
       "      <td>1.417800</td>\n",
       "      <td>1.068600</td>\n",
       "      <td>0.892700</td>\n",
       "      <td>0.515700</td>\n",
       "      <td>1.608700</td>\n",
       "    </tr>\n",
       "    <tr>\n",
       "      <th>std</th>\n",
       "      <td>1.630604</td>\n",
       "      <td>0.716756</td>\n",
       "      <td>1.039403</td>\n",
       "      <td>0.466168</td>\n",
       "      <td>1.498354</td>\n",
       "      <td>0.910061</td>\n",
       "      <td>2.832951</td>\n",
       "      <td>1.432256</td>\n",
       "      <td>2.859354e+06</td>\n",
       "      <td>1.860399</td>\n",
       "      <td>...</td>\n",
       "      <td>1.615499</td>\n",
       "      <td>9411.498664</td>\n",
       "      <td>0.706011</td>\n",
       "      <td>1.096787</td>\n",
       "      <td>0.962464</td>\n",
       "      <td>0.783903</td>\n",
       "      <td>0.653098</td>\n",
       "      <td>0.930308</td>\n",
       "      <td>0.549712</td>\n",
       "      <td>1.134422</td>\n",
       "    </tr>\n",
       "    <tr>\n",
       "      <th>min</th>\n",
       "      <td>0.000000</td>\n",
       "      <td>0.000000</td>\n",
       "      <td>0.000000</td>\n",
       "      <td>0.000000</td>\n",
       "      <td>0.000000</td>\n",
       "      <td>0.000000</td>\n",
       "      <td>0.000000</td>\n",
       "      <td>0.000000</td>\n",
       "      <td>0.000000e+00</td>\n",
       "      <td>0.000000</td>\n",
       "      <td>...</td>\n",
       "      <td>0.000000</td>\n",
       "      <td>0.000000</td>\n",
       "      <td>0.000000</td>\n",
       "      <td>0.000000</td>\n",
       "      <td>0.000000</td>\n",
       "      <td>0.000000</td>\n",
       "      <td>0.000000</td>\n",
       "      <td>0.000000</td>\n",
       "      <td>0.000000</td>\n",
       "      <td>0.000000</td>\n",
       "    </tr>\n",
       "    <tr>\n",
       "      <th>25%</th>\n",
       "      <td>0.000000</td>\n",
       "      <td>0.000000</td>\n",
       "      <td>2.000000</td>\n",
       "      <td>1.000000</td>\n",
       "      <td>1.000000</td>\n",
       "      <td>2.000000</td>\n",
       "      <td>1.000000</td>\n",
       "      <td>0.000000</td>\n",
       "      <td>0.000000e+00</td>\n",
       "      <td>1.000000</td>\n",
       "      <td>...</td>\n",
       "      <td>0.000000</td>\n",
       "      <td>0.000000</td>\n",
       "      <td>2.000000</td>\n",
       "      <td>1.000000</td>\n",
       "      <td>1.000000</td>\n",
       "      <td>1.000000</td>\n",
       "      <td>1.000000</td>\n",
       "      <td>0.000000</td>\n",
       "      <td>0.000000</td>\n",
       "      <td>1.000000</td>\n",
       "    </tr>\n",
       "    <tr>\n",
       "      <th>50%</th>\n",
       "      <td>3.000000</td>\n",
       "      <td>0.000000</td>\n",
       "      <td>3.000000</td>\n",
       "      <td>1.000000</td>\n",
       "      <td>1.000000</td>\n",
       "      <td>2.000000</td>\n",
       "      <td>2.000000</td>\n",
       "      <td>1.000000</td>\n",
       "      <td>1.842350e+05</td>\n",
       "      <td>2.000000</td>\n",
       "      <td>...</td>\n",
       "      <td>2.000000</td>\n",
       "      <td>299.000000</td>\n",
       "      <td>2.000000</td>\n",
       "      <td>1.000000</td>\n",
       "      <td>2.000000</td>\n",
       "      <td>2.000000</td>\n",
       "      <td>1.000000</td>\n",
       "      <td>1.000000</td>\n",
       "      <td>0.000000</td>\n",
       "      <td>1.000000</td>\n",
       "    </tr>\n",
       "    <tr>\n",
       "      <th>75%</th>\n",
       "      <td>4.000000</td>\n",
       "      <td>0.000000</td>\n",
       "      <td>3.000000</td>\n",
       "      <td>1.000000</td>\n",
       "      <td>2.000000</td>\n",
       "      <td>3.000000</td>\n",
       "      <td>3.000000</td>\n",
       "      <td>1.000000</td>\n",
       "      <td>1.355805e+06</td>\n",
       "      <td>5.000000</td>\n",
       "      <td>...</td>\n",
       "      <td>3.000000</td>\n",
       "      <td>1147.000000</td>\n",
       "      <td>2.000000</td>\n",
       "      <td>2.000000</td>\n",
       "      <td>3.000000</td>\n",
       "      <td>2.000000</td>\n",
       "      <td>1.000000</td>\n",
       "      <td>2.000000</td>\n",
       "      <td>1.000000</td>\n",
       "      <td>3.000000</td>\n",
       "    </tr>\n",
       "    <tr>\n",
       "      <th>max</th>\n",
       "      <td>4.000000</td>\n",
       "      <td>2.000000</td>\n",
       "      <td>4.000000</td>\n",
       "      <td>3.000000</td>\n",
       "      <td>14.000000</td>\n",
       "      <td>3.000000</td>\n",
       "      <td>30.000000</td>\n",
       "      <td>4.000000</td>\n",
       "      <td>5.612220e+07</td>\n",
       "      <td>5.000000</td>\n",
       "      <td>...</td>\n",
       "      <td>4.000000</td>\n",
       "      <td>164676.000000</td>\n",
       "      <td>3.000000</td>\n",
       "      <td>3.000000</td>\n",
       "      <td>3.000000</td>\n",
       "      <td>3.000000</td>\n",
       "      <td>2.000000</td>\n",
       "      <td>2.000000</td>\n",
       "      <td>2.000000</td>\n",
       "      <td>4.000000</td>\n",
       "    </tr>\n",
       "  </tbody>\n",
       "</table>\n",
       "<p>8 rows × 24 columns</p>\n",
       "</div>"
      ],
      "text/plain": [
       "           1sibling         2home         3educ       6cr sum      8pastime  \\\n",
       "count  10000.000000  10000.000000  10000.000000  10000.000000  10000.000000   \n",
       "mean       2.278200      0.354700      2.750500      1.162200      1.752900   \n",
       "std        1.630604      0.716756      1.039403      0.466168      1.498354   \n",
       "min        0.000000      0.000000      0.000000      0.000000      0.000000   \n",
       "25%        0.000000      0.000000      2.000000      1.000000      1.000000   \n",
       "50%        3.000000      0.000000      3.000000      1.000000      1.000000   \n",
       "75%        4.000000      0.000000      3.000000      1.000000      2.000000   \n",
       "max        4.000000      2.000000      4.000000      3.000000     14.000000   \n",
       "\n",
       "           9changes  10daily travel  11travel mode         14sum  \\\n",
       "count  10000.000000    10000.000000   10000.000000  1.000000e+04   \n",
       "mean       1.986900        2.403100       1.161700  9.968203e+05   \n",
       "std        0.910061        2.832951       1.432256  2.859354e+06   \n",
       "min        0.000000        0.000000       0.000000  0.000000e+00   \n",
       "25%        2.000000        1.000000       0.000000  0.000000e+00   \n",
       "50%        2.000000        2.000000       1.000000  1.842350e+05   \n",
       "75%        3.000000        3.000000       1.000000  1.355805e+06   \n",
       "max        3.000000       30.000000       4.000000  5.612220e+07   \n",
       "\n",
       "           25doctor  ...       31rooms    32valuables      33cloths  \\\n",
       "count  10000.000000  ...  10000.000000   10000.000000  10000.000000   \n",
       "mean       2.343600  ...      1.915000    2108.875400      2.038700   \n",
       "std        1.860399  ...      1.615499    9411.498664      0.706011   \n",
       "min        0.000000  ...      0.000000       0.000000      0.000000   \n",
       "25%        1.000000  ...      0.000000       0.000000      2.000000   \n",
       "50%        2.000000  ...      2.000000     299.000000      2.000000   \n",
       "75%        5.000000  ...      3.000000    1147.000000      2.000000   \n",
       "max        5.000000  ...      4.000000  164676.000000      3.000000   \n",
       "\n",
       "           34jewels     36alcohol       37music     40online1     41online2  \\\n",
       "count  10000.000000  10000.000000  10000.000000  10000.000000  10000.000000   \n",
       "mean       1.345800      1.781700      1.417800      1.068600      0.892700   \n",
       "std        1.096787      0.962464      0.783903      0.653098      0.930308   \n",
       "min        0.000000      0.000000      0.000000      0.000000      0.000000   \n",
       "25%        1.000000      1.000000      1.000000      1.000000      0.000000   \n",
       "50%        1.000000      2.000000      2.000000      1.000000      1.000000   \n",
       "75%        2.000000      3.000000      2.000000      1.000000      2.000000   \n",
       "max        3.000000      3.000000      3.000000      2.000000      2.000000   \n",
       "\n",
       "               42TV    45travdest  \n",
       "count  10000.000000  10000.000000  \n",
       "mean       0.515700      1.608700  \n",
       "std        0.549712      1.134422  \n",
       "min        0.000000      0.000000  \n",
       "25%        0.000000      1.000000  \n",
       "50%        0.000000      1.000000  \n",
       "75%        1.000000      3.000000  \n",
       "max        2.000000      4.000000  \n",
       "\n",
       "[8 rows x 24 columns]"
      ]
     },
     "execution_count": 16,
     "metadata": {},
     "output_type": "execute_result"
    }
   ],
   "source": [
    "non_binary_df.describe()"
   ]
  },
  {
   "cell_type": "markdown",
   "metadata": {},
   "source": [
    "## Cleaning the data set"
   ]
  },
  {
   "cell_type": "markdown",
   "metadata": {},
   "source": [
    "### Redundant variables"
   ]
  },
  {
   "cell_type": "markdown",
   "metadata": {},
   "source": [
    "I dropped a variable that I think is redundant, the \"Unnamed\" column, which is index of each observation. Since the datframe uses indexes for the obejects it stores, I consider it  redundant to have a variable that does the exact same thing."
   ]
  },
  {
   "cell_type": "code",
   "execution_count": 17,
   "metadata": {},
   "outputs": [],
   "source": [
    "# Dropping column\n",
    "df = raw_df.drop(['Unnamed: 0'], axis=1)"
   ]
  },
  {
   "cell_type": "markdown",
   "metadata": {},
   "source": [
    "### Renaming columns"
   ]
  },
  {
   "cell_type": "markdown",
   "metadata": {},
   "source": [
    "Renaming columns for clearance."
   ]
  },
  {
   "cell_type": "code",
   "execution_count": 18,
   "metadata": {},
   "outputs": [
    {
     "data": {
      "text/plain": [
       "Index(['income_level', 'sex', 'age', 'town', 'occupation', 'height', 'sibling',\n",
       "       'home', 'educ', 'travel', 'credit', 'cr sum', 'card', 'pastime',\n",
       "       'changes', 'daily travel', 'travel mode', 'conscious', 'accounts',\n",
       "       'sum', 'mobile', 'mobtime', 'car', 'internet', 'sport', 'vegan',\n",
       "       'civil', 'polit', 'ill', 'medicine', 'doctor', 'covid', 'advert',\n",
       "       'culture', 'food', 'children', 'rooms', 'valuables', 'cloths', 'jewels',\n",
       "       'smoke', 'alcohol', 'music', 'face', 'twitter', 'online1', 'online2',\n",
       "       'TV', 'refurb', 'move', 'travdest'],\n",
       "      dtype='object')"
      ]
     },
     "execution_count": 18,
     "metadata": {},
     "output_type": "execute_result"
    }
   ],
   "source": [
    "# lstrip removes leading digits\n",
    "df.columns = [col.lstrip('0123456789') for col in df.columns]\n",
    "df.columns"
   ]
  },
  {
   "cell_type": "markdown",
   "metadata": {},
   "source": [
    "### Missing values"
   ]
  },
  {
   "cell_type": "code",
   "execution_count": 19,
   "metadata": {},
   "outputs": [
    {
     "data": {
      "text/html": [
       "<div>\n",
       "<style scoped>\n",
       "    .dataframe tbody tr th:only-of-type {\n",
       "        vertical-align: middle;\n",
       "    }\n",
       "\n",
       "    .dataframe tbody tr th {\n",
       "        vertical-align: top;\n",
       "    }\n",
       "\n",
       "    .dataframe thead th {\n",
       "        text-align: right;\n",
       "    }\n",
       "</style>\n",
       "<table border=\"1\" class=\"dataframe\">\n",
       "  <thead>\n",
       "    <tr style=\"text-align: right;\">\n",
       "      <th></th>\n",
       "      <th>income_level</th>\n",
       "      <th>sex</th>\n",
       "      <th>age</th>\n",
       "      <th>town</th>\n",
       "      <th>occupation</th>\n",
       "      <th>height</th>\n",
       "      <th>sibling</th>\n",
       "      <th>home</th>\n",
       "      <th>educ</th>\n",
       "      <th>travel</th>\n",
       "      <th>...</th>\n",
       "      <th>alcohol</th>\n",
       "      <th>music</th>\n",
       "      <th>face</th>\n",
       "      <th>twitter</th>\n",
       "      <th>online1</th>\n",
       "      <th>online2</th>\n",
       "      <th>TV</th>\n",
       "      <th>refurb</th>\n",
       "      <th>move</th>\n",
       "      <th>travdest</th>\n",
       "    </tr>\n",
       "  </thead>\n",
       "  <tbody>\n",
       "  </tbody>\n",
       "</table>\n",
       "<p>0 rows × 51 columns</p>\n",
       "</div>"
      ],
      "text/plain": [
       "Empty DataFrame\n",
       "Columns: [income_level, sex, age, town, occupation, height, sibling, home, educ, travel, credit, cr sum, card, pastime, changes, daily travel, travel mode, conscious, accounts, sum, mobile, mobtime, car, internet, sport, vegan, civil, polit, ill, medicine, doctor, covid, advert, culture, food, children, rooms, valuables, cloths, jewels, smoke, alcohol, music, face, twitter, online1, online2, TV, refurb, move, travdest]\n",
       "Index: []\n",
       "\n",
       "[0 rows x 51 columns]"
      ]
     },
     "execution_count": 19,
     "metadata": {},
     "output_type": "execute_result"
    }
   ],
   "source": [
    "# Checking for missing values\n",
    "df[df.isnull().any(axis=1)]"
   ]
  },
  {
   "cell_type": "markdown",
   "metadata": {},
   "source": [
    "There are no missing values in the dataset."
   ]
  },
  {
   "cell_type": "markdown",
   "metadata": {},
   "source": [
    "### Outliers"
   ]
  },
  {
   "cell_type": "markdown",
   "metadata": {},
   "source": [
    "Analyzing the previous statistics I didn't observe outliers, however I can try also with a more formal method. "
   ]
  },
  {
   "cell_type": "code",
   "execution_count": 20,
   "metadata": {},
   "outputs": [
    {
     "data": {
      "text/plain": [
       "['sex', 'town', 'occupation']"
      ]
     },
     "execution_count": 20,
     "metadata": {},
     "output_type": "execute_result"
    }
   ],
   "source": [
    "categorical_vars"
   ]
  },
  {
   "cell_type": "code",
   "execution_count": 21,
   "metadata": {},
   "outputs": [
    {
     "data": {
      "text/plain": [
       "Series([], dtype: int64)"
      ]
     },
     "execution_count": 21,
     "metadata": {},
     "output_type": "execute_result"
    }
   ],
   "source": [
    "non_categorical = df.copy().drop(categorical_vars, axis = 1)\n",
    "\n",
    "# Calculate Z-scores on the the u column (i picked u as an example)\n",
    "z_scores = zscore(non_categorical)\n",
    "\n",
    "# Identify outliers based on Z-scores\n",
    "outliers = (z_scores >3.5) | (z_scores < -3.5)\n",
    "\n",
    "# Outliers\n",
    "non_categorical[outliers == True].value_counts()"
   ]
  },
  {
   "cell_type": "markdown",
   "metadata": {},
   "source": [
    "Z-score threshold of 3.5 is quite strict and would identify data points that are more extreme, however we don't observe outliers, as assumed before."
   ]
  },
  {
   "cell_type": "markdown",
   "metadata": {},
   "source": [
    "## Encoding"
   ]
  },
  {
   "cell_type": "markdown",
   "metadata": {},
   "source": [
    "As we have seen, there are categorical variables, so it is necesssary to encode the dataframe for the some of the next analysis."
   ]
  },
  {
   "cell_type": "code",
   "execution_count": 22,
   "metadata": {},
   "outputs": [],
   "source": [
    "df_encoded = df.copy()\n",
    "label_encoder = LabelEncoder()\n",
    "for col in categorical_vars:\n",
    "    label_encoder.fit(df[col])\n",
    "    df_encoded[col] = label_encoder.transform(df[col])"
   ]
  },
  {
   "cell_type": "code",
   "execution_count": 23,
   "metadata": {},
   "outputs": [
    {
     "data": {
      "text/html": [
       "<div>\n",
       "<style scoped>\n",
       "    .dataframe tbody tr th:only-of-type {\n",
       "        vertical-align: middle;\n",
       "    }\n",
       "\n",
       "    .dataframe tbody tr th {\n",
       "        vertical-align: top;\n",
       "    }\n",
       "\n",
       "    .dataframe thead th {\n",
       "        text-align: right;\n",
       "    }\n",
       "</style>\n",
       "<table border=\"1\" class=\"dataframe\">\n",
       "  <thead>\n",
       "    <tr style=\"text-align: right;\">\n",
       "      <th></th>\n",
       "      <th>income_level</th>\n",
       "      <th>sex</th>\n",
       "      <th>age</th>\n",
       "      <th>town</th>\n",
       "      <th>occupation</th>\n",
       "      <th>height</th>\n",
       "      <th>sibling</th>\n",
       "      <th>home</th>\n",
       "      <th>educ</th>\n",
       "      <th>travel</th>\n",
       "      <th>...</th>\n",
       "      <th>alcohol</th>\n",
       "      <th>music</th>\n",
       "      <th>face</th>\n",
       "      <th>twitter</th>\n",
       "      <th>online1</th>\n",
       "      <th>online2</th>\n",
       "      <th>TV</th>\n",
       "      <th>refurb</th>\n",
       "      <th>move</th>\n",
       "      <th>travdest</th>\n",
       "    </tr>\n",
       "  </thead>\n",
       "  <tbody>\n",
       "    <tr>\n",
       "      <th>0</th>\n",
       "      <td>1</td>\n",
       "      <td>0</td>\n",
       "      <td>60</td>\n",
       "      <td>2</td>\n",
       "      <td>1</td>\n",
       "      <td>168</td>\n",
       "      <td>3</td>\n",
       "      <td>0</td>\n",
       "      <td>4</td>\n",
       "      <td>0</td>\n",
       "      <td>...</td>\n",
       "      <td>1</td>\n",
       "      <td>2</td>\n",
       "      <td>1</td>\n",
       "      <td>0</td>\n",
       "      <td>2</td>\n",
       "      <td>2</td>\n",
       "      <td>0</td>\n",
       "      <td>1</td>\n",
       "      <td>1</td>\n",
       "      <td>1</td>\n",
       "    </tr>\n",
       "    <tr>\n",
       "      <th>1</th>\n",
       "      <td>1</td>\n",
       "      <td>1</td>\n",
       "      <td>40</td>\n",
       "      <td>2</td>\n",
       "      <td>0</td>\n",
       "      <td>170</td>\n",
       "      <td>4</td>\n",
       "      <td>0</td>\n",
       "      <td>3</td>\n",
       "      <td>1</td>\n",
       "      <td>...</td>\n",
       "      <td>1</td>\n",
       "      <td>0</td>\n",
       "      <td>0</td>\n",
       "      <td>0</td>\n",
       "      <td>1</td>\n",
       "      <td>2</td>\n",
       "      <td>1</td>\n",
       "      <td>1</td>\n",
       "      <td>1</td>\n",
       "      <td>1</td>\n",
       "    </tr>\n",
       "    <tr>\n",
       "      <th>2</th>\n",
       "      <td>0</td>\n",
       "      <td>1</td>\n",
       "      <td>49</td>\n",
       "      <td>0</td>\n",
       "      <td>2</td>\n",
       "      <td>196</td>\n",
       "      <td>3</td>\n",
       "      <td>0</td>\n",
       "      <td>1</td>\n",
       "      <td>0</td>\n",
       "      <td>...</td>\n",
       "      <td>3</td>\n",
       "      <td>2</td>\n",
       "      <td>0</td>\n",
       "      <td>0</td>\n",
       "      <td>0</td>\n",
       "      <td>0</td>\n",
       "      <td>1</td>\n",
       "      <td>0</td>\n",
       "      <td>1</td>\n",
       "      <td>1</td>\n",
       "    </tr>\n",
       "    <tr>\n",
       "      <th>3</th>\n",
       "      <td>0</td>\n",
       "      <td>1</td>\n",
       "      <td>47</td>\n",
       "      <td>2</td>\n",
       "      <td>1</td>\n",
       "      <td>166</td>\n",
       "      <td>0</td>\n",
       "      <td>0</td>\n",
       "      <td>3</td>\n",
       "      <td>1</td>\n",
       "      <td>...</td>\n",
       "      <td>3</td>\n",
       "      <td>1</td>\n",
       "      <td>1</td>\n",
       "      <td>0</td>\n",
       "      <td>2</td>\n",
       "      <td>0</td>\n",
       "      <td>1</td>\n",
       "      <td>1</td>\n",
       "      <td>0</td>\n",
       "      <td>1</td>\n",
       "    </tr>\n",
       "    <tr>\n",
       "      <th>4</th>\n",
       "      <td>0</td>\n",
       "      <td>0</td>\n",
       "      <td>41</td>\n",
       "      <td>0</td>\n",
       "      <td>2</td>\n",
       "      <td>173</td>\n",
       "      <td>3</td>\n",
       "      <td>0</td>\n",
       "      <td>3</td>\n",
       "      <td>0</td>\n",
       "      <td>...</td>\n",
       "      <td>1</td>\n",
       "      <td>2</td>\n",
       "      <td>1</td>\n",
       "      <td>0</td>\n",
       "      <td>0</td>\n",
       "      <td>0</td>\n",
       "      <td>1</td>\n",
       "      <td>1</td>\n",
       "      <td>0</td>\n",
       "      <td>1</td>\n",
       "    </tr>\n",
       "  </tbody>\n",
       "</table>\n",
       "<p>5 rows × 51 columns</p>\n",
       "</div>"
      ],
      "text/plain": [
       "   income_level  sex  age  town  occupation  height  sibling  home  educ  \\\n",
       "0             1    0   60     2           1     168        3     0     4   \n",
       "1             1    1   40     2           0     170        4     0     3   \n",
       "2             0    1   49     0           2     196        3     0     1   \n",
       "3             0    1   47     2           1     166        0     0     3   \n",
       "4             0    0   41     0           2     173        3     0     3   \n",
       "\n",
       "   travel  ...  alcohol  music  face  twitter  online1  online2  TV  refurb  \\\n",
       "0       0  ...        1      2     1        0        2        2   0       1   \n",
       "1       1  ...        1      0     0        0        1        2   1       1   \n",
       "2       0  ...        3      2     0        0        0        0   1       0   \n",
       "3       1  ...        3      1     1        0        2        0   1       1   \n",
       "4       0  ...        1      2     1        0        0        0   1       1   \n",
       "\n",
       "   move  travdest  \n",
       "0     1         1  \n",
       "1     1         1  \n",
       "2     1         1  \n",
       "3     0         1  \n",
       "4     0         1  \n",
       "\n",
       "[5 rows x 51 columns]"
      ]
     },
     "execution_count": 23,
     "metadata": {},
     "output_type": "execute_result"
    }
   ],
   "source": [
    "df_encoded.head(5)"
   ]
  },
  {
   "cell_type": "markdown",
   "metadata": {},
   "source": [
    "## Exoploratory data analysis"
   ]
  },
  {
   "cell_type": "markdown",
   "metadata": {},
   "source": [
    "### Correlations"
   ]
  },
  {
   "cell_type": "markdown",
   "metadata": {},
   "source": [
    "We can have a glimpse of the corrrelation among the variables by computing the correlation function."
   ]
  },
  {
   "cell_type": "code",
   "execution_count": 24,
   "metadata": {},
   "outputs": [
    {
     "name": "stdout",
     "output_type": "stream",
     "text": [
      "Correlated Variable Pairs:\n",
      "income_level and sex: -0.1589370066159692\n",
      "income_level and height: 0.10760002290376224\n",
      "income_level and internet: 0.1142497515553802\n",
      "income_level and face: 0.11996940739933025\n",
      "income_level and twitter: 0.10834744183549487\n",
      "income_level and online2: 0.10148249862191948\n",
      "internet and face: 0.1073029997000984\n",
      "face and twitter: 0.11588231971264512\n",
      "face and online2: 0.10605409816072033\n",
      "twitter and online2: 0.1104051368506867\n"
     ]
    }
   ],
   "source": [
    "# Calculate the correlation matrix\n",
    "correlation_matrix = df_encoded.corr()\n",
    "\n",
    "# Extract the upper triangle of the correlation matrix (excluding the diagonal)\n",
    "upper_triangle = correlation_matrix.where(np.triu(np.ones(correlation_matrix.shape), k=1).astype(bool))\n",
    "\n",
    "# Find pairs of correlated variables (correlation >0.1)\n",
    "correlated_pairs = (upper_triangle.abs() > 0.1).stack()\n",
    "\n",
    "# Extract the variables involved in correlated pairs\n",
    "selected_correlations = correlated_pairs[correlated_pairs].index\n",
    "\n",
    "# Display the correlated pairs\n",
    "print(\"Correlated Variable Pairs:\")\n",
    "for pair in selected_correlations:\n",
    "    variable1, variable2 = pair\n",
    "    correlation_value = correlation_matrix.loc[variable1, variable2]\n",
    "    print(f\"{variable1} and {variable2}: {correlation_value}\")\n"
   ]
  },
  {
   "cell_type": "markdown",
   "metadata": {},
   "source": [
    "The correlations are very low and this could be due to several reasons:\n",
    "- the variables are  statistically independent. \n",
    "\n",
    "- the variables could also have non-linear relationship, we could assest this later, in the modelling part.\n",
    "\n",
    "- the variables are categorical or ordinal in nature, so low correlation may be expected."
   ]
  },
  {
   "cell_type": "markdown",
   "metadata": {},
   "source": [
    "### Categorical Data Analysis"
   ]
  },
  {
   "cell_type": "markdown",
   "metadata": {},
   "source": [
    "Let's check the independence among the categorical variables."
   ]
  },
  {
   "cell_type": "code",
   "execution_count": 25,
   "metadata": {},
   "outputs": [
    {
     "name": "stdout",
     "output_type": "stream",
     "text": [
      "\n",
      "Chi-square test for independence between sex and town\n",
      "Chi2 value: 3.447602655122174\n",
      "P-value: 0.17838675095148623\n"
     ]
    },
    {
     "data": {
      "image/png": "[encoded data removed]",
      "text/plain": [
       "<Figure size 500x300 with 1 Axes>"
      ]
     },
     "metadata": {},
     "output_type": "display_data"
    },
    {
     "name": "stdout",
     "output_type": "stream",
     "text": [
      "\n",
      "Chi-square test for independence between sex and occupation\n",
      "Chi2 value: 202.46374668840508\n",
      "P-value: 1.0853155210575159e-44\n"
     ]
    },
    {
     "data": {
      "image/png": "[encoded data removed]",
      "text/plain": [
       "<Figure size 500x300 with 1 Axes>"
      ]
     },
     "metadata": {},
     "output_type": "display_data"
    },
    {
     "name": "stdout",
     "output_type": "stream",
     "text": [
      "\n",
      "Chi-square test for independence between town and occupation\n",
      "Chi2 value: 5.4917480050742045\n",
      "P-value: 0.24045578937871775\n"
     ]
    },
    {
     "data": {
      "image/png": "[encoded data removed]",
      "text/plain": [
       "<Figure size 500x300 with 1 Axes>"
      ]
     },
     "metadata": {},
     "output_type": "display_data"
    }
   ],
   "source": [
    "categorical_vars = df.select_dtypes(include=['object']).columns\n",
    "\n",
    "# Iterate through all pairs of categorical variables\n",
    "for i in range(len(categorical_vars)):\n",
    "    for j in range(i + 1, len(categorical_vars)):\n",
    "        variable1 = categorical_vars[i]\n",
    "        variable2 = categorical_vars[j]\n",
    "\n",
    "        # Create a contingency table\n",
    "        contingency_table = pd.crosstab(df[variable1], df[variable2])\n",
    "\n",
    "        # Perform the chi-square test for independence\n",
    "        chi2, p, _, _ = chi2_contingency(contingency_table)\n",
    "\n",
    "        # Print the results\n",
    "        print(f\"\\nChi-square test for independence between {variable1} and {variable2}\")\n",
    "        print(f\"Chi2 value: {chi2}\")\n",
    "        print(f\"P-value: {p}\")\n",
    "        \n",
    "        # Visualize the contingency table\n",
    "        plt.figure(figsize=(5, 3))\n",
    "        sns.heatmap(contingency_table, annot=True, cmap='Blues', fmt='d', cbar=False)\n",
    "        plt.title(f'Contingency Table for {variable1} and {variable2}')\n",
    "        plt.show()\n"
   ]
  },
  {
   "cell_type": "markdown",
   "metadata": {},
   "source": [
    "Sex and occupation pair seems to be not independent. "
   ]
  },
  {
   "cell_type": "code",
   "execution_count": 26,
   "metadata": {},
   "outputs": [
    {
     "data": {
      "image/png": "[encoded data removed]",
      "text/plain": [
       "<Figure size 600x400 with 1 Axes>"
      ]
     },
     "metadata": {},
     "output_type": "display_data"
    }
   ],
   "source": [
    "# Create a cross-tabulation DataFrame for 'sex' and 'occupation'\n",
    "cross_tab_df = pd.crosstab(df['sex'], df['occupation'])\n",
    "\n",
    "# Plotting\n",
    "ax = cross_tab_df.plot(kind='bar', figsize=(6, 4), color=['steelblue', 'lightblue', 'lightsteelblue'])\n",
    "\n",
    "# Labels and title\n",
    "plt.xlabel('Sex')\n",
    "plt.ylabel('Counts for occupation')\n",
    "plt.xticks(rotation = 0)\n",
    "plt.title('Distribution of Sex and Occupation', pad = 20)\n",
    "\n",
    "# Legend\n",
    "plt.legend(title='Occupation', loc='upper right', bbox_to_anchor=(1.2, 1))\n",
    "\n",
    "# Show plot\n",
    "plt.show()"
   ]
  },
  {
   "cell_type": "markdown",
   "metadata": {},
   "source": [
    "Female, as expected, have lower employment rate, and among the occupations we can see that the \"Szakorvos\" occupation is the more popular. The \"asztalos\" is less frequent, while in the male case we have the opposite behaviour, and this make sense."
   ]
  },
  {
   "cell_type": "markdown",
   "metadata": {},
   "source": [
    "### Distribution plots"
   ]
  },
  {
   "cell_type": "markdown",
   "metadata": {},
   "source": [
    "Here i plot some distributions, comparing the income variable with some of the other features."
   ]
  },
  {
   "cell_type": "code",
   "execution_count": 27,
   "metadata": {},
   "outputs": [
    {
     "data": {
      "text/plain": [
       "Index(['income_level', 'sex', 'age', 'town', 'occupation', 'height', 'sibling',\n",
       "       'home', 'educ', 'travel', 'credit', 'cr sum', 'card', 'pastime',\n",
       "       'changes', 'daily travel', 'travel mode', 'conscious', 'accounts',\n",
       "       'sum', 'mobile', 'mobtime', 'car', 'internet', 'sport', 'vegan',\n",
       "       'civil', 'polit', 'ill', 'medicine', 'doctor', 'covid', 'advert',\n",
       "       'culture', 'food', 'children', 'rooms', 'valuables', 'cloths', 'jewels',\n",
       "       'smoke', 'alcohol', 'music', 'face', 'twitter', 'online1', 'online2',\n",
       "       'TV', 'refurb', 'move', 'travdest'],\n",
       "      dtype='object')"
      ]
     },
     "execution_count": 27,
     "metadata": {},
     "output_type": "execute_result"
    }
   ],
   "source": [
    "df.columns"
   ]
  },
  {
   "cell_type": "code",
   "execution_count": 28,
   "metadata": {},
   "outputs": [
    {
     "data": {
      "image/png": "[encoded data removed]",
      "text/plain": [
       "<Figure size 600x400 with 1 Axes>"
      ]
     },
     "metadata": {},
     "output_type": "display_data"
    }
   ],
   "source": [
    "cross_income_occupation = pd.crosstab(df['income_level'], df['occupation'])\n",
    "\n",
    "# Transpose the DataFrame to invert the axes\n",
    "cross_income_occupation = cross_income_occupation.T\n",
    "\n",
    "# Plotting\n",
    "ax = cross_income_occupation.plot(kind='bar', figsize=(6, 4), color=['steelblue', 'lightblue', 'lightsteelblue'])\n",
    "\n",
    "# Labels and title\n",
    "plt.xlabel('Income', labelpad=15)\n",
    "plt.ylabel('Occupation')\n",
    "plt.xticks(rotation = 0)\n",
    "plt.title('Income vs Occupation', pad = 20)\n",
    "\n",
    "# Legend\n",
    "plt.legend(title='Income', loc='upper right', bbox_to_anchor=(1.2, 1))\n",
    "\n",
    "# Show plot\n",
    "plt.show()"
   ]
  },
  {
   "cell_type": "code",
   "execution_count": 29,
   "metadata": {},
   "outputs": [
    {
     "data": {
      "image/png": "[encoded data removed]",
      "text/plain": [
       "<Figure size 600x400 with 1 Axes>"
      ]
     },
     "metadata": {},
     "output_type": "display_data"
    }
   ],
   "source": [
    "cross_income_educ = pd.crosstab(df['income_level'], df['educ'])\n",
    "\n",
    "# Transpose the DataFrame to invert the axes\n",
    "cross_income_educ = cross_income_educ.T\n",
    "\n",
    "# Plotting\n",
    "ax = cross_income_educ.plot(kind='bar', figsize=(6, 4), color=['steelblue', 'lightblue', 'lightsteelblue'])\n",
    "\n",
    "# Labels and title\n",
    "plt.xlabel('Income', labelpad=15)\n",
    "plt.ylabel('Education')\n",
    "plt.xticks(rotation = 0)\n",
    "plt.title('Income vs Education', pad = 20)\n",
    "\n",
    "# Legend\n",
    "plt.legend(title='Income', loc='upper right', bbox_to_anchor=(1.2, 1))\n",
    "\n",
    "# Show plot\n",
    "plt.show()"
   ]
  },
  {
   "cell_type": "code",
   "execution_count": 30,
   "metadata": {},
   "outputs": [
    {
     "data": {
      "image/png": "[encoded data removed]",
      "text/plain": [
       "<Figure size 600x400 with 1 Axes>"
      ]
     },
     "metadata": {},
     "output_type": "display_data"
    }
   ],
   "source": [
    "cross_income_children = pd.crosstab(df['income_level'], df['children'])\n",
    "\n",
    "# Transpose the DataFrame to invert the axes\n",
    "cross_income_children = cross_income_children.T\n",
    "\n",
    "# Plotting\n",
    "ax = cross_income_children.plot(kind='bar', figsize=(6, 4), color=['steelblue', 'lightblue'])\n",
    "\n",
    "# Labels and title\n",
    "plt.xlabel('Income', labelpad=15)\n",
    "plt.ylabel('Home')\n",
    "plt.xticks(rotation = 0)\n",
    "plt.title('Income vs Children', pad = 20)\n",
    "\n",
    "# Legend\n",
    "plt.legend(title='Income', loc='upper right', bbox_to_anchor=(1.2, 1))\n",
    "\n",
    "# Show plot\n",
    "plt.show()"
   ]
  },
  {
   "cell_type": "markdown",
   "metadata": {},
   "source": [
    "## Clustering and classification\n"
   ]
  },
  {
   "cell_type": "markdown",
   "metadata": {},
   "source": [
    "Below we will perform clustering and classification on the provided data set. \n",
    "\n",
    "1. The first technique doesn't rely on labeled training data. The algorithm identifies patterns or structures within the data without prior knowledge of the classes.\n",
    "\n",
    "2. The second one requires labeled training data to learn the relationship between input features and target labels.\n",
    "\n",
    "Even though these techniques normally serve different purposes and are applied in different scenarios, will be used here for the same goal: I want to clusterize / classify the observations according to the income_level variable.\n",
    "\n",
    "Thus, in the end, by looking at and evaluating the results, we will be able to assess which methods and techniques work well with this kind of data."
   ]
  },
  {
   "cell_type": "markdown",
   "metadata": {},
   "source": [
    "Here I am defining features vector and the target vector as follow"
   ]
  },
  {
   "cell_type": "code",
   "execution_count": 40,
   "metadata": {},
   "outputs": [],
   "source": [
    "# Features vectos\n",
    "X = df_encoded.drop(['income_level'], axis = 1)\n",
    "\n",
    "# Target variable \n",
    "Y = df_encoded['income_level']"
   ]
  },
  {
   "cell_type": "markdown",
   "metadata": {},
   "source": [
    "### Unsupervised Learning"
   ]
  },
  {
   "cell_type": "markdown",
   "metadata": {},
   "source": [
    "In order to perform the cluster analysis with the k-means, I have to compute the dimensionality reduction first, otherwise i won't be able to find clusters and plot the results."
   ]
  },
  {
   "cell_type": "markdown",
   "metadata": {},
   "source": [
    "#### PCA"
   ]
  },
  {
   "cell_type": "markdown",
   "metadata": {},
   "source": [
    "When performing the PCA, we have to \n",
    "- standardize the features vector and then apply the PCA function.\n",
    "\n",
    "- understand the optimal number of components for keeping the relevant information and not lose important oneat \n",
    "\n",
    "- fit the function\n",
    "\n"
   ]
  },
  {
   "cell_type": "code",
   "execution_count": null,
   "metadata": {},
   "outputs": [],
   "source": [
    "# Standardize the Feature vector\n",
    "X_std = StandardScaler().fit_transform(X)"
   ]
  },
  {
   "cell_type": "code",
   "execution_count": null,
   "metadata": {},
   "outputs": [],
   "source": [
    "# Create a PCA instance: pca\n",
    "n_components = 10\n",
    "pca = PCA(n_components = n_components)\n",
    "principal_components = pca.fit_transform(X_std)\n",
    "\n",
    "# Plot the explained variances in order to find the optimal number of components\n",
    "PC_values = np.arange(pca.n_components_) + 1\n",
    "plt.figure(figsize=(6,4))\n",
    "plt.plot(PC_values, pca.explained_variance_ratio_, 'o-', linewidth=2, color='#3ea2b5')\n",
    "plt.title('Scree Plot', fontsize= 12, color = 'black', y=1.05, pad=10)\n",
    "plt.xlabel('Principal Component')\n",
    "plt.ylabel('Explained variance')\n",
    "plt.grid(True)"
   ]
  },
  {
   "cell_type": "markdown",
   "metadata": {},
   "source": [
    "2 seems to be a reasonable number of components."
   ]
  },
  {
   "cell_type": "code",
   "execution_count": null,
   "metadata": {},
   "outputs": [],
   "source": [
    "# PCA\n",
    "nc=2\n",
    "pca = PCA(n_components=nc)\n",
    "X_pca = pca.fit_transform(X_std)"
   ]
  },
  {
   "cell_type": "markdown",
   "metadata": {},
   "source": [
    "#### K-means"
   ]
  },
  {
   "cell_type": "code",
   "execution_count": null,
   "metadata": {},
   "outputs": [],
   "source": [
    "# Function to calculate WCSS for a range of values of k\n",
    "def calculate_wcss(data, max_k):\n",
    "    wcss = []\n",
    "    for k in range(1, max_k + 1):\n",
    "        kmeans = KMeans(n_clusters=k, init='k-means++', max_iter=300, n_init=10, random_state=0)\n",
    "        kmeans.fit(data)\n",
    "        wcss.append(kmeans.inertia_)\n",
    "    return wcss\n",
    "\n",
    "# Specify the maximum number of clusters to consider\n",
    "max_clusters = 15\n",
    "\n",
    "# Calculate WCSS for different values of k\n",
    "wcss_values = calculate_wcss(X_pca, max_clusters)\n",
    "\n",
    "# Plot the elbow curve\n",
    "plt.figure(figsize=(5, 3))\n",
    "plt.plot(range(1, max_clusters + 1), wcss_values, marker='o', linestyle='-', color='#3ea2b5')\n",
    "plt.title('Elbow Method for Optimal k')\n",
    "plt.xlabel('Number of Clusters (k)')\n",
    "plt.ylabel('Within-Cluster Sum of Squares (WCSS)')\n",
    "plt.show()"
   ]
  },
  {
   "cell_type": "markdown",
   "metadata": {},
   "source": [
    "Below the perfroming of the k-means with "
   ]
  },
  {
   "cell_type": "code",
   "execution_count": 185,
   "metadata": {},
   "outputs": [
    {
     "ename": "",
     "evalue": "",
     "output_type": "error",
     "traceback": [
      "\u001b[1;31mNon è possibile eseguire il codice. La sessione è stata eliminata. Provare a riavviare il kernel."
     ]
    }
   ],
   "source": [
    "# Color palette\n",
    "cluster_color_palette = ['#61bdcd', '#0d6dae', '#f988ad', '#e84a9b', '#00246d', '#74c476']\n",
    "silhouette_cmap = ListedColormap(cluster_color_palette)\n",
    "\n",
    "\n",
    "# Silhouette Analysis for diferent number of clusters\n",
    "for k in range(2, 6):\n",
    "    fig, ax = plt.subplots(1, 2, figsize=(15, 5))\n",
    "\n",
    "    # Run the kmeans algorithm\n",
    "    km = KMeans(n_clusters=k, init='k-means++', max_iter=300, n_init=10, random_state=0)\n",
    "    y_pred_km = km.fit_predict(X_pca)\n",
    "    centroids = km.cluster_centers_\n",
    "\n",
    "    # Get silhouette\n",
    "    silhouette_vals = silhouette_samples(X_pca, y_pred_km)\n",
    "\n",
    "    # Silhouette coefficients are calculated for each data point\n",
    "    y_ticks = []\n",
    "    y_lower = y_upper = 0\n",
    "    for i, cluster in enumerate(np.unique(y_pred_km)):\n",
    "        cluster_silhouette_vals = silhouette_vals[y_pred_km == cluster]\n",
    "        cluster_silhouette_vals.sort()\n",
    "        y_upper += len(cluster_silhouette_vals)\n",
    "\n",
    "        ax[0].barh(range(y_lower, y_upper), cluster_silhouette_vals, height=1, color = silhouette_cmap(i))\n",
    "        ax[0].text(-0.03, (y_lower + y_upper) / 2, str(i + 1))\n",
    "        y_lower += len(cluster_silhouette_vals)\n",
    "\n",
    "    # Get the average silhouette score --> vertical dashed line\n",
    "    avg_score = silhouette_score(X_pca, y_pred_km)\n",
    "    ax[0].axvline(avg_score, linestyle='--', linewidth=2, color='blue')\n",
    "    ax[0].set_yticks([])\n",
    "    ax[0].set_xlim([-0.1, 1])\n",
    "    ax[0].set_xlabel('Silhouette coefficient values')\n",
    "    ax[0].set_ylabel('Cluster labels')\n",
    "    ax[0].set_title('Silhouette plot for the various clusters')\n",
    "\n",
    "    # Scatter plot of data colored with labels\n",
    "    ax[1].scatter(X_pca[:, 0], X_pca[:, 1], c=[cluster_color_palette[i] for i in y_pred_km])\n",
    "    ax[1].scatter(centroids[:, 0], centroids[:, 1], marker='X', c='k', s=250)\n",
    "    ax[1].set_xlabel('PC1')\n",
    "    ax[1].set_ylabel('PC2')\n",
    "    ax[1].set_title('Visualization of clustered data', y=1.02)\n",
    "\n",
    "    plt.tight_layout()\n",
    "    plt.suptitle(f'Silhouette analysis using k = {k}', fontsize=16, fontweight='semibold' )\n",
    "\n",
    "plt.show()\n"
   ]
  },
  {
   "cell_type": "markdown",
   "metadata": {},
   "source": [
    "As we can see by the Elbow Method for choosing the optimal number of clusters and by the silhouette analysis, this method is not the best for our task.\n",
    "\n",
    "The income level variable is a binary one, so the clustering method should identify 2 groups based on the characteristics of the features. Remember that i have performed the PCA, so the features on which the k-means is working are the combinations of the original ones."
   ]
  },
  {
   "cell_type": "markdown",
   "metadata": {},
   "source": [
    "### Supervised Learning"
   ]
  },
  {
   "cell_type": "markdown",
   "metadata": {},
   "source": [
    "In order to perform the ML tools, I have to split the data set in train and test set. It is also important to standardize the data by scaling it. "
   ]
  },
  {
   "cell_type": "code",
   "execution_count": 41,
   "metadata": {},
   "outputs": [],
   "source": [
    "# Split the data into training and test sets\n",
    "X_train, X_test, y_train, y_test = train_test_split(X, Y, test_size=0.2)\n",
    "\n",
    "# Scale the features using StandardScaler\n",
    "scaler = StandardScaler()\n",
    "X_train = scaler.fit_transform(X_train)\n",
    "X_test = scaler.transform(X_test)"
   ]
  },
  {
   "cell_type": "markdown",
   "metadata": {},
   "source": [
    "#### k-Nearest Neighbors (KNN)"
   ]
  },
  {
   "cell_type": "markdown",
   "metadata": {},
   "source": [
    "Here the implementation of the KNN. In the begenning I tried to understand the best value for n; however the plot of the scores seems to be very irregular and the accuracy scores are not changing a lot across the different k values.\n",
    "\n",
    "We use cross-validation to find the accuracy scores, which means we don’t need to use a training and test split, but we do need to scale our data. We then loop over the values and add the scores to our list. We'll use train and test sets later, when the choiche of the k value is made."
   ]
  },
  {
   "cell_type": "code",
   "execution_count": null,
   "metadata": {},
   "outputs": [],
   "source": [
    "# Possible k values\n",
    "k_values = [i for i in range (1,31)]\n",
    "scores = []\n",
    "\n",
    "# Computing the scores\n",
    "for k in k_values:\n",
    "    knn = KNeighborsClassifier(n_neighbors=k,  weights= 'uniform')\n",
    "    score = cross_val_score(knn, X, Y, cv=5)\n",
    "    scores.append(np.mean(score))\n",
    "\n",
    "# Plotting\n",
    "sns.lineplot(x = k_values, y = scores, marker = 'o')\n",
    "plt.xlabel(\"K Values\")\n",
    "plt.ylabel(\"Accuracy Score\")"
   ]
  },
  {
   "cell_type": "markdown",
   "metadata": {},
   "source": [
    "The final KKN implementation."
   ]
  },
  {
   "cell_type": "code",
   "execution_count": null,
   "metadata": {},
   "outputs": [],
   "source": [
    "# KNN instance\n",
    "knn = KNeighborsClassifier(n_neighbors=5, weights= 'distance')\n",
    "\n",
    "# KNN fitting\n",
    "knn.fit(X_train, y_train)\n",
    "\n",
    "# KNN predictions\n",
    "y_pred_knn = knn.predict(X_test)\n",
    "\n",
    "# Evaluation metrics\n",
    "accuracy = accuracy_score(y_test, y_pred_knn)\n",
    "precision = precision_score(y_test, y_pred_knn)\n",
    "recall = recall_score(y_test, y_pred_knn)\n",
    "\n",
    "print(\"Accuracy:\", round(accuracy,3))\n",
    "print(\"Precision:\", round(precision,3))\n",
    "print(\"Recall:\", round(recall,3))\n",
    "conf_matrix = confusion_matrix(y_test, y_pred_knn)\n",
    "\n",
    "# Plotting the confusion matrix\n",
    "plt.figure(figsize=(5, 3))\n",
    "sns.heatmap(conf_matrix, annot=True, fmt='d', cmap='Blues', \n",
    "                xticklabels=['0', '1'],\n",
    "                yticklabels=['0', '1'])\n",
    "plt.title(f'Confusion Matrix for the KNN')\n",
    "plt.xlabel('Predicted label', labelpad= 30)\n",
    "plt.ylabel('True label', labelpad= 30)\n",
    "plt.show()"
   ]
  },
  {
   "cell_type": "markdown",
   "metadata": {},
   "source": [
    "#### Logistic regression"
   ]
  },
  {
   "cell_type": "markdown",
   "metadata": {},
   "source": [
    "As second tecnique, I will perform the Logistic Regression, which is a statistical method used for binary classification."
   ]
  },
  {
   "cell_type": "code",
   "execution_count": null,
   "metadata": {},
   "outputs": [],
   "source": [
    "# Create a logistic regression model\n",
    "logistic_reg = LogisticRegression(C = 0.01, class_weight = None, penalty = 'l2', solver = 'liblinear')\n",
    "\n",
    "# Train the model\n",
    "logistic_reg.fit(X_train, y_train)\n",
    "\n",
    "# Make predictions on the test set\n",
    "y_pred_lr = logistic_reg.predict(X_test)\n",
    "\n",
    "# Evaluate the model\n",
    "accuracy = accuracy_score(y_test, y_pred_lr)\n",
    "precision = precision_score(y_test, y_pred_lr)\n",
    "recall = recall_score(y_test, y_pred_lr)\n",
    "conf_matrix = confusion_matrix(y_test, y_pred_lr)\n",
    "\n",
    "print(\"Accuracy:\", round(accuracy,3))\n",
    "print(\"Precision:\", round(precision,3))\n",
    "print(\"Recall:\", round(recall,3))\n",
    "\n",
    "# Plotting the confusion matrix\n",
    "plt.figure(figsize=(5, 3))\n",
    "sns.heatmap(conf_matrix, annot=True, fmt='d', cmap='Blues', \n",
    "                xticklabels=['0', '1'],\n",
    "                yticklabels=['0', '1'])\n",
    "plt.title(f'Confusion Matrix for the Logistic Regression')\n",
    "plt.xlabel('Predicted label', labelpad= 30)\n",
    "plt.ylabel('True label', labelpad= 30)\n",
    "plt.show()"
   ]
  },
  {
   "cell_type": "markdown",
   "metadata": {},
   "source": [
    "#### Decision Tree"
   ]
  },
  {
   "cell_type": "code",
   "execution_count": null,
   "metadata": {},
   "outputs": [],
   "source": [
    "# Create a Decision Tree Classifier\n",
    "dec_tree = DecisionTreeClassifier(criterion = 'entropy', max_depth = 5, min_samples_leaf = 5, min_samples_split = 2, random_state = 0)\n",
    "\n",
    "# Train the model\n",
    "dec_tree.fit(X_train, y_train)\n",
    "\n",
    "# Make predictions on the test set\n",
    "y_pred_dec= dec_tree.predict(X_test)\n",
    "\n",
    "# Evaluate the model\n",
    "accuracy = accuracy_score(y_test, y_pred_lr)\n",
    "precision = precision_score(y_test, y_pred_lr)\n",
    "recall = recall_score(y_test, y_pred_lr)\n",
    "conf_matrix = confusion_matrix(y_test, y_pred_lr)\n"
   ]
  },
  {
   "cell_type": "markdown",
   "metadata": {},
   "source": [
    "#### Random Forest"
   ]
  },
  {
   "cell_type": "code",
   "execution_count": null,
   "metadata": {},
   "outputs": [],
   "source": [
    "# Create a Random Forest Classifier\n",
    "rnd_forest = RandomForestClassifier(n_estimators=100, random_state=0)\n",
    "\n",
    "# Train the model\n",
    "rnd_forest.fit(X_train, y_train)\n",
    "\n",
    "# Make predictions on the test set\n",
    "y_pred_rnd= rnd_forest.predict(X_test)\n",
    "\n",
    "# Evaluate the model\n",
    "accuracy = accuracy_score(y_test, y_pred_lr)\n",
    "precision = precision_score(y_test, y_pred_lr)\n",
    "recall = recall_score(y_test, y_pred_lr)\n",
    "conf_matrix = confusion_matrix(y_test, y_pred_lr)"
   ]
  },
  {
   "cell_type": "markdown",
   "metadata": {},
   "source": [
    "#### SVM "
   ]
  },
  {
   "cell_type": "code",
   "execution_count": null,
   "metadata": {},
   "outputs": [],
   "source": [
    "# Create a Support Vector Machine Classifier\n",
    "svm = SVC(kernel='rbf', C=0.1, gamma=0.1, random_state=0)\n",
    "\n",
    "# Train the model\n",
    "svm.fit(X_train, y_train)\n",
    "\n",
    "# Make predictions on the test set\n",
    "y_pred_svm = svm.predict(X_test)\n"
   ]
  },
  {
   "cell_type": "markdown",
   "metadata": {},
   "source": [
    "#### Evaluation"
   ]
  },
  {
   "cell_type": "code",
   "execution_count": null,
   "metadata": {},
   "outputs": [],
   "source": [
    "# Create lists to store metric values\n",
    "model_names = ['Logistic Regression', 'Random Forest', 'SVM', 'KNN', 'Decision Tree']\n",
    "accuracy_scores = []\n",
    "recall_scores = []\n",
    "fbeta_scores = []\n",
    "\n",
    "# Evaluate each model and store metric values\n",
    "predictions = [y_cls_logreg, y_cls_rand, y_cls_svm, y_cls_knn, y_cls_decision, y_cls_adaboost, y_cls_gaussian]\n",
    "\n",
    "for y_pred in predictions:\n",
    "    acc = round(accuracy_score(y_test_cls, y_pred) * 100, 3)\n",
    "    recall = round(recall_score(y_test_cls, y_pred, average='micro') * 100, 3)\n",
    "    fbeta = round(fbeta_score(y_test_cls, y_pred, average='micro', beta=2) * 100, 3)\n",
    "    \n",
    "    accuracy_scores.append(acc)\n",
    "    recall_scores.append(recall)\n",
    "    fbeta_scores.append(fbeta)\n",
    "\n",
    "# Create a DataFrame with the metric values for each model\n",
    "data = {\n",
    "    'Model': model_names,\n",
    "    'Accuracy': accuracy_scores,\n",
    "    'Recall': recall_scores,\n",
    "    'F-beta (beta=2)': fbeta_scores\n",
    "}\n",
    "\n",
    "metrics_df = pd.DataFrame(data)"
   ]
  },
  {
   "cell_type": "markdown",
   "metadata": {},
   "source": [
    "## Other dimensionality reduction"
   ]
  },
  {
   "cell_type": "markdown",
   "metadata": {},
   "source": [
    "### Multivariate scaling"
   ]
  },
  {
   "cell_type": "markdown",
   "metadata": {},
   "source": [
    "Here the distance matrix is computed automatically by the function, which default value for the dissimilarity paramater is \"euclidean\". So the `MDS` function computes pairwise Euclidean distances between points in the dataset.\n",
    "\n",
    "First I select a subset from the original dataframe becasue otherwise the computational time would be too high."
   ]
  },
  {
   "cell_type": "code",
   "execution_count": null,
   "metadata": {},
   "outputs": [],
   "source": [
    "# Set the random seed for reproducibility\n",
    "np.random.seed(42)\n",
    "\n",
    "# Randomly shuffle the indices and select the first 1000 shuffled indices\n",
    "shuffled_indices = np.random.permutation(df_encoded.index)\n",
    "df_subset = df_encoded.loc[shuffled_indices[:2000]]\n",
    "\n",
    "# Features vectors for the subset\n",
    "X_subset = df_subset.drop(['income_level'], axis=1)\n",
    "\n",
    "# Target variable for the subset\n",
    "Y_subset = df_subset['income_level']\n",
    "\n",
    "# Reindex both X_subset and Y_subset\n",
    "X_subset.reset_index(drop=True, inplace=True)\n",
    "Y_subset.reset_index(drop=True, inplace=True)\n",
    "\n",
    "# Perform multi-dimensional scaling\n",
    "embedding = MDS(n_components=4, metric = False, random_state = 42,normalized_stress = 'auto')\n",
    "X_transformed = embedding.fit_transform(X_subset)\n",
    "\n",
    "# New shape\n",
    "print(\"New shape: \", X_transformed.shape)\n",
    "\n",
    "# Create a dataframe\n",
    "df_mds =pd.DataFrame({\n",
    "                    'Dim1': pd.Series(X_transformed[:,0]),\n",
    "                    'Dim2': pd.Series(X_transformed[:,1]),})\n",
    "\n",
    "# Plot the results\n",
    "plt.figure(figsize=(8, 4))\n",
    "sns.scatterplot(x= 'Dim1', y= 'Dim2', data = df_mds, palette=['#a8ddb5', '#e377c2'], s=50)\n",
    "plt.title('MDS and K-means Scatter Plot')\n",
    "plt.show()"
   ]
  },
  {
   "cell_type": "markdown",
   "metadata": {},
   "source": [
    "### Factor analysis"
   ]
  },
  {
   "cell_type": "markdown",
   "metadata": {},
   "source": []
  }
 ],
 "metadata": {
  "kernelspec": {
   "display_name": "Python 3",
   "language": "python",
   "name": "python3"
  },
  "language_info": {
   "codemirror_mode": {
    "name": "ipython",
    "version": 3
   },
   "file_extension": ".py",
   "mimetype": "text/x-python",
   "name": "python",
   "nbconvert_exporter": "python",
   "pygments_lexer": "ipython3",
   "version": "3.10.3"
  }
 },
 "nbformat": 4,
 "nbformat_minor": 2
}
